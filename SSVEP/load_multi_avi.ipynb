{
 "cells": [
  {
   "cell_type": "markdown",
   "id": "90f9f0cc-3b3f-4e58-b47c-3523ce43cf92",
   "metadata": {},
   "source": [
    "## AVI Multi Taget"
   ]
  },
  {
   "cell_type": "code",
   "execution_count": 7,
   "id": "e039a02b-cc6c-41c2-8fc4-a1b3aed9ea5e",
   "metadata": {},
   "outputs": [],
   "source": [
    "# imports\n",
    "from scipy.io import loadmat\n",
    "import numpy as np"
   ]
  },
  {
   "cell_type": "code",
   "execution_count": 8,
   "id": "188d648c-c12e-4c06-88dc-c3e9d9ca614e",
   "metadata": {},
   "outputs": [],
   "source": [
    "# pré-carregamento\n",
    "\n",
    "avi_data = list()\n",
    "for i in range(1,6):\n",
    "    avi_data.append(loadmat(f\"datasets/avi/multi/Sub{i}_1_multitarget.mat\"))\n",
    "    avi_data.append(loadmat(f\"datasets/avi/multi/Sub{i}_2_multitarget.mat\"))"
   ]
  },
  {
   "cell_type": "code",
   "execution_count": 9,
   "id": "cfc13ae1-2950-4b0a-9cc3-fc88dcae87d3",
   "metadata": {},
   "outputs": [
    {
     "name": "stdout",
     "output_type": "stream",
     "text": [
      "Divisão dos dados:\n",
      "(8192, 10) (10, 8192)\n",
      "(8192, 10) (10, 8192)\n",
      "(8192, 10) (10, 8192)\n",
      "(8192, 10) (10, 8192)\n",
      "(8192, 10) (10, 8192)\n",
      "(8192, 10) (10, 8192)\n",
      "(8192, 10) (10, 8192)\n",
      "(8192, 10) (10, 8192)\n",
      "(8192, 10) (10, 8192)\n",
      "(8192, 10) (10, 8192)\n",
      "\n",
      "Divisão dos rótulos (sequências):\n",
      "[7.5 8.2 7.  8.2 6.  7.5 6.  6.  8.2 8.2]\n",
      "[9.3 6.  6.  8.2 6.  6.5 7.5 7.  6.  6. ]\n",
      "[7.5 8.2 7.  8.2 6.  7.5 6.  6.  8.2 8.2]\n",
      "[9.3 6.  6.  8.2 6.  6.5 7.5 7.  6.  6. ]\n",
      "[7.5 8.2 7.  8.2 6.  7.5 6.  6.  8.2 8.2]\n",
      "[9.3 6.  6.  8.2 6.  6.5 7.5 7.  6.  6. ]\n",
      "[7.5 8.2 7.  8.2 6.  7.5 6.  6.  8.2 8.2]\n",
      "[9.3 6.  6.  8.2 6.  6.5 7.5 7.  6.  6. ]\n",
      "[7.5 8.2 7.  8.2 6.  7.5 6.  6.  8.2 8.2]\n",
      "[9.3 6.  6.  8.2 6.  6.5 7.5 7.  6.  6. ]\n"
     ]
    }
   ],
   "source": [
    "# extração direta dos dados\n",
    "\n",
    "X = [d['Data'][0][0][7] for d in avi_data]\n",
    "y = [d['Data'][0][0][8][0] for d in avi_data]\n",
    "\n",
    "print(\"Divisão dos dados:\")\n",
    "for data in X:\n",
    "    print(data.shape, data.T.shape)\n",
    "\n",
    "print(\"\\nDivisão dos rótulos (sequências):\")\n",
    "for data in y:\n",
    "    print(data)"
   ]
  }
 ],
 "metadata": {
  "kernelspec": {
   "display_name": "Python 3 (ipykernel)",
   "language": "python",
   "name": "python3"
  },
  "language_info": {
   "codemirror_mode": {
    "name": "ipython",
    "version": 3
   },
   "file_extension": ".py",
   "mimetype": "text/x-python",
   "name": "python",
   "nbconvert_exporter": "python",
   "pygments_lexer": "ipython3",
   "version": "3.11.4"
  }
 },
 "nbformat": 4,
 "nbformat_minor": 5
}
