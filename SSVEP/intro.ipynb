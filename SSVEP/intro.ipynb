{
 "cells": [
  {
   "cell_type": "markdown",
   "metadata": {},
   "source": [
    "# Anotações sobre os artigos\n",
    "**Ana Carla Quallio Rosa e Thaynara Falcão**"
   ]
  },
  {
   "cell_type": "markdown",
   "metadata": {},
   "source": [
    "## A dataset of EEG signals from a single-channel SSVEP-based brain computer interface\n",
    "\n",
    "*Resumo traduzido*\n",
    "```\n",
    "O artigo apresenta uma coleção de eletroencefalografia (EEG) de uma Interface de Computador Cerebral (BCI) baseada em Potenciais Visuais de Estado Estável (SSVEP). A coleta de dados foi adquirida por meio de experimentos baseados em estímulos visuais repetitivos com quatro frequências de oscilação diferentes. A principal novidade do conjunto de dados proposto está relacionada ao uso de um sensor seco de aquisição de canal único. Diferente dos capacetes BCI convencionais, este tipo de dispositivo melhora fortemente o conforto dos usuários e, portanto, há um forte interesse em usá-lo para preparar o caminho para a futura geração de aplicativos da Internet das Coisas (IoT).\n",
    "Consequentemente, o conjunto de dados proposto neste artigo visa atuar como uma ferramenta fundamental para apoiar as atividades de pesquisa neste tópico emergente de interação humano-computado.\n",
    "```\n",
    "\n",
    "*Informações sobre os dados*\n",
    "```\n",
    "Tipo de dados de eletrodos secos de canal único EEG. Os dados foram adquiridos usando um fone de ouvido BCI construído sobre o Olimex EEG-SMT, uma entrada diferencial de dois canais de 10 bits conversor analógico-digital (ADC) com amostragem frequência de 256 Hz. Um canal em cada dois foi usado para desenvolver o conjunto de dados proposto. O formato dos dados é .CSV. \n",
    "Sobre a coleta dos dados, os sujeitos estavam sentados em uma cadeira, a 70 cm de distância de uma mesa de 15,6 monitor de polegadas com resolução de 1024 × 768 pixels e uma taxa de atualização de 60 Hz. Os estímulos visuais exibidos no o monitor consistia em 4 quadrados pretos e brancos alternados com frequências 8,57 Hz, 10 Hz, 12 Hz e 15 Hz respectivamente. Os eletrodos foram posicionados na linha média plano sagital na área Frontal Parietal (Fpz) e Área occipital (Oz), de acordo com o sistema 10–20.\n",
    "11 voluntários foram equipados com a aquisição de dados fone de ouvido e solicitado a focar nos estímulos visuais. Cada arquivo contém dados brutos de EEG dos quatro estímulos.\n",
    "```\n",
    "\n",
    "*Resumo da seção informativa sobre os dados*\n",
    "```\n",
    "Os dados coletados foram obtidos por um dispositivo EEG de eletrodos secos de canal único e podem ser usados para explorar as propriedades dos sinais cerebrais com base em potenciais evocados visuais. O conjunto de dados proposto é baseado em dados coletados por dispositivos BCI portáteis. \n",
    "O conjunto de dados pode ser processado com diferentes técnicas de extração e seleção de recursos, como como Transformada Rápida de Fourier (FFT), Transformada Wavelet Discreta (DWT) e assim por diante. Usou-se aprendizado de máquina para classificar os sinais SSVEP.\n",
    "```\n",
    "\n",
    "*Resumo da seção teórica*\n",
    "```\n",
    "SSVEP são sinais cerebrais gerados no córtex visual ao focar em uma fonte intermitente de luz, que é emitida em uma frequência específica. Interfaces Cérebro-Computador (BCIs) baseadas neste paradigma possuem alta taxa de transferência de informações e poucos requisitos de treinamento. Em aplicações atuais do BCI, os sinais SSVEP são geralmente adquiridos por meio de capacetes equipados com uma coleção de eletrodos úmidos, onde uma solução salina é usada para melhorar a capacidade de cada sensor na captura de sinais cerebrais. Esses dispositivos são desconfortáveis, por isso pesquisa-se dispositivos BCI baseados em poucos eletrodos secos. Como consequência, há uma forte necessidade de desenvolver e publicar novos conjuntos de dados BCI onde os dispositivos mencionados acima são usados ​​para capturar sinais.\n",
    "A Tabela 1 relata o considerado frequências que se encontram nas bandas de frequência cerebral alfa e beta baixa. Cada estímulo de frequência tem duração de 16 s e foi digitalizado a uma frequência de amostragem fixa de 256 Hz. Cada arquivo .csv contém quatro colunas, denominadas F1, F2, F3 e F4, correspondentes às quatro frequências dos estímulos, respectivamente. Cada coluna é composta de 4.096 amostras (correspondendo a 16 s de comprimento de sinal em 256 Hz) cujos valores variam de 0 a 1023. A Figura 1 mostra onze gráficos. Cada um deles exibe dados contidos em um dos arquivos .csv. Em detalhes, cada parcela contém quatro subparcelas. Cada subtrama exibe os valores de um das frequências consideradas. Portanto, cada subparcela é caracterizada pelo número de amostras no eixo x e os valores de frequência no eixo y.\n",
    "Depois é descrito sobre o hardware do sensor. Acho que essa parte não é importante.\n",
    "```\n",
    "\n",
    "*Resumo da seção de experimento*\n",
    "\n",
    "```\n",
    "O experimento foi realizado em onze voluntários saudáveis, com idades entre 25 e 50 anos. Cada o voluntário estava equipado com o fone de ouvido de aquisição, sentado em uma cadeira posicionada a 70 cm de distância do monitor do laptop e é necessário seguir as etapas abaixo:\n",
    "1. Focar no estímulo relacionado à frequência F1 por 16 s;\n",
    "2. Espere quatro segundos e relaxe antes de focar no próximo estímulo (durante o intervalo de 4 s não os estímulos foram projetados no monitor);\n",
    "3. Os passos 1 e 2 foram repetidos até obter dados referentes aos três estímulos restantes (F2, F3, F4).\n",
    "Ao final do experimento, um total de 44 gravações de 16 s cada uma amostradas em 256 Hz, para foi obtido um total de 180.224 amostras. No futuro, o conjunto de dados proposto será estendido com mais amostras de pessoas diferentes, a fim de torná-lo adequado para uso tanto em pesquisas e aplicações prontas para o mercado.\n",
    "```\r\n"
   ]
  },
  {
   "cell_type": "markdown",
   "metadata": {},
   "source": [
    "## BETA: A Large Benchmark Database Toward SSVEP-BCI Application\n",
    "\n",
    "*Informações gerais*\n",
    "```\n",
    "O banco de dados BETA é composto por dados de eletroencefalograma (EEG) de 64 canais de 70 indivíduos realizando uma tarefa de ortografia com 40 alvos. Recomendamos o uso da métrica da relação sinal-ruído (SNR) de banda larga e do quociente BCI para caracterizar o SSVEP nos níveis de ensaio único e populacional, respectivamente. O BETA consiste nos dados coletados fora do ambiente laboratorial da sala de blindagem eletromagnética.\n",
    "```\n",
    "\n",
    "*Descrição dos dados*\n",
    "```\n",
    "A base de dados utilizada neste trabalho está disponível gratuitamente para pesquisas científicas, onde é armazenada no formato MATLAB. Este banco de dados contém 70 assuntos, e cada assunto corresponde a um arquivo mat. Os nomes dos sujeitos são mapeados em índices de S1 a S70 para desidentificação. Cada arquivo no banco de dados consiste em uma matriz de estrutura MATLAB, que incluía os dados de EEG de 4 blocos e suas informações suplementares correspondentes como seus campos.\n",
    "Os dados foram pré-processados. Com o advento do big data, o BETA mostra-se promissor para facilitar a modelagem cerebral em nível populacional e ajudar a desenvolver novas abordagens de classificação ou metodologia de aprendizagem.\n",
    "```\n"
   ]
  },
  {
   "cell_type": "markdown",
   "metadata": {},
   "source": [
    "## AVI SSEVEP Dataset\n",
    "\n",
    "O conjunto de dados AVI SSVEP é um conjunto de dados gratuito (para uso não comercial) que contém medições de EEG de indivíduos saudáveis ​​expostos a alvos oscilantes para desencadear respostas SSVEP. O conjunto de dados foi produzido como parte de uma tese de mestrado. Todos os dados foram registrados usando três eletrodos (Oz, Fpz, Pz) durante o inverno 2012-2013.\n",
    "\n",
    "*Single target*\n",
    "```\n",
    "Neste experimento, o sujeito está sentado a 60 cm de distância de um monitor onde olha para um\n",
    "único alvo cintilante que muda rapidamente de cor de preto para branco. O conjunto de dados consiste em\n",
    "quatro sessões realizadas com quatro sujeitos de teste diferentes. Cada tentativa em uma sessão dura 30\n",
    "segundos após os quais o sujeito faz uma breve pausa. Para cada uma das frequências, os ensaios são\n",
    "repetido pelo menos 3 vezes.\n",
    "```\n",
    "\n",
    "*Multi target*\n",
    "```\n",
    "Em vez de detectar se existem respostas SSVEP, é mais interessante detectar\n",
    "para qual dos vários alvos com diferentes frequências de oscilação uma pessoa está olhando.\n",
    "Neste experimento, o sujeito está sentado a 60 cm de distância de um monitor onde foca em um\n",
    "de múltiplos alvos cintilantes que mudam de cor rapidamente de preto para branco. Para cada assunto,\n",
    "existem dois arquivos representando duas sessões. Cada sessão tem dez tentativas de dezesseis segundos.\n",
    "```\n",
    "\n"
   ]
  },
  {
   "cell_type": "code",
   "execution_count": null,
   "metadata": {},
   "outputs": [],
   "source": []
  }
 ],
 "metadata": {
  "kernelspec": {
   "display_name": "Python 3 (ipykernel)",
   "language": "python",
   "name": "python3"
  },
  "language_info": {
   "codemirror_mode": {
    "name": "ipython",
    "version": 3
   },
   "file_extension": ".py",
   "mimetype": "text/x-python",
   "name": "python",
   "nbconvert_exporter": "python",
   "pygments_lexer": "ipython3",
   "version": "3.11.4"
  }
 },
 "nbformat": 4,
 "nbformat_minor": 4
}
