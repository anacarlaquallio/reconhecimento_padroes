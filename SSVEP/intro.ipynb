{
 "cells": [
  {
   "cell_type": "markdown",
   "metadata": {},
   "source": [
    "# Documentação dos artigos\n",
    "**Ana Carla Quallio Rosa e Thaynara Falcão**"
   ]
  },
  {
   "cell_type": "markdown",
   "metadata": {
    "jp-MarkdownHeadingCollapsed": true
   },
   "source": [
    "## Artigo 1: The AVI SSEVEP Dataset\n",
    "Link: http://www.setzner.com/avi-ssvep-dataset/\n",
    "\n",
    "O conjunto de dados AVI SSVEP é um conjunto de dados gratuito (para uso não comercial) que contém medições de EEG de indivíduos saudáveis ​​expostos a alvos oscilantes para desencadear respostas SSVEP. O conjunto de dados foi produzido como parte de uma tese de mestrado. Todos os dados foram registrados usando três eletrodos (Oz, Fpz, Pz) durante o inverno 2012-2013.\n",
    "\n",
    "*Single target*\n",
    "```\n",
    "Neste experimento, o sujeito está sentado a 60 cm de distância de um monitor onde olha para um\n",
    "único alvo cintilante que muda rapidamente de cor de preto para branco. O conjunto de dados consiste em\n",
    "quatro sessões realizadas com quatro sujeitos de teste diferentes. Cada tentativa em uma sessão dura 30\n",
    "segundos após os quais o sujeito faz uma breve pausa. Para cada uma das frequências, os ensaios são\n",
    "repetido pelo menos 3 vezes.\n",
    "```\n",
    "\n",
    "*Multi target*\n",
    "```\n",
    "Em vez de detectar se existem respostas SSVEP, é mais interessante detectar\n",
    "para qual dos vários alvos com diferentes frequências de oscilação uma pessoa está olhando.\n",
    "Neste experimento, o sujeito está sentado a 60 cm de distância de um monitor onde foca em um\n",
    "de múltiplos alvos cintilantes que mudam de cor rapidamente de preto para branco. Para cada assunto,\n",
    "existem dois arquivos representando duas sessões. Cada sessão tem dez tentativas de dezesseis segundos.\n",
    "```\n",
    "\n"
   ]
  },
  {
   "cell_type": "markdown",
   "metadata": {},
   "source": [
    "## Artigo 2: BETA: A Large Benchmark Database Toward SSVEP-BCI Application\n",
    "Link: https://www.frontiersin.org/articles/10.3389/fnins.2020.00627/full\n",
    "\n",
    "*Informações gerais*\n",
    "```\n",
    "O banco de dados BETA é composto por dados de eletroencefalograma (EEG) de 64 canais de 70 indivíduos realizando uma tarefa de ortografia com 40 alvos. Recomendamos o uso da métrica da relação sinal-ruído (SNR) de banda larga e do quociente BCI para caracterizar o SSVEP nos níveis de ensaio único e populacional, respectivamente. O BETA consiste nos dados coletados fora do ambiente laboratorial da sala de blindagem eletromagnética.\n",
    "```\n",
    "\n",
    "*Descrição dos dados*\n",
    "```\n",
    "A base de dados utilizada neste trabalho está disponível gratuitamente para pesquisas científicas, onde é armazenada no formato MATLAB. Este banco de dados contém 70 assuntos, e cada assunto corresponde a um arquivo mat. Os nomes dos sujeitos são mapeados em índices de S1 a S70 para desidentificação. Cada arquivo no banco de dados consiste em uma matriz de estrutura MATLAB, que incluía os dados de EEG de 4 blocos e suas informações suplementares correspondentes como seus campos.\n",
    "Os dados foram pré-processados. Com o advento do big data, o BETA mostra-se promissor para facilitar a modelagem cerebral em nível populacional e ajudar a desenvolver novas abordagens de classificação ou metodologia de aprendizagem.\n",
    "```\n"
   ]
  }
 ],
 "metadata": {
  "kernelspec": {
   "display_name": "Python 3 (ipykernel)",
   "language": "python",
   "name": "python3"
  },
  "language_info": {
   "codemirror_mode": {
    "name": "ipython",
    "version": 3
   },
   "file_extension": ".py",
   "mimetype": "text/x-python",
   "name": "python",
   "nbconvert_exporter": "python",
   "pygments_lexer": "ipython3",
   "version": "3.11.4"
  }
 },
 "nbformat": 4,
 "nbformat_minor": 4
}
