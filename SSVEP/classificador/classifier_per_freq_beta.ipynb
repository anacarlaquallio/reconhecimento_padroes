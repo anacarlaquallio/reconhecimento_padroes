{
 "cells": [
  {
   "cell_type": "markdown",
   "metadata": {},
   "source": [
    "## Classificação por isolamento de frequência\n",
    "\n",
    "Neste notebook será realizado um exemplo de classificação, isolando todas as frequências estimuladas no conjunto de dados `BETA`. "
   ]
  },
  {
   "cell_type": "code",
   "execution_count": 35,
   "metadata": {},
   "outputs": [],
   "source": [
    "import mne"
   ]
  },
  {
   "cell_type": "code",
   "execution_count": 36,
   "metadata": {},
   "outputs": [
    {
     "name": "stdout",
     "output_type": "stream",
     "text": [
      "Reading c:\\Users\\anaca\\OneDrive\\Documentos\\GitHub\\ssvep\\SSVEP\\classificador\\..\\preprocessing_beta\\beta_epo.fif ...\n",
      "Isotrak not found\n",
      "    Found the data of interest:\n",
      "        t =       0.00 ...    1462.89 ms\n",
      "        0 CTF compensation matrices available\n",
      "Not setting metadata\n",
      "160 matching events found\n",
      "No baseline correction applied\n",
      "0 projection items activated\n",
      "(160, 64, 750)\n"
     ]
    },
    {
     "data": {
      "text/html": [
       "<table class=\"table table-hover table-striped table-sm table-responsive small\">\n",
       "    <tr>\n",
       "        <th>Number of events</th>\n",
       "        <td>160</td>\n",
       "    </tr>\n",
       "    <tr>\n",
       "        <th>Events</th>\n",
       "        \n",
       "        <td>10.0: 4<br/>10.2: 4<br/>10.4: 4<br/>10.6: 4<br/>10.8: 4<br/>11.0: 4<br/>11.2: 4<br/>11.4: 4<br/>11.6: 4<br/>11.8: 4<br/>12.0: 4<br/>12.2: 4<br/>12.4: 4<br/>12.600000000000001: 4<br/>12.8: 4<br/>13.0: 4<br/>13.200000000000001: 4<br/>13.4: 4<br/>13.600000000000001: 4<br/>13.8: 4<br/>14.0: 4<br/>14.200000000000001: 4<br/>14.4: 4<br/>14.600000000000001: 4<br/>14.8: 4<br/>15.0: 4<br/>15.200000000000001: 4<br/>15.4: 4<br/>15.600000000000001: 4<br/>15.8: 4<br/>8.0: 4<br/>8.2: 4<br/>8.4: 4<br/>8.6: 4<br/>8.799999999999999: 4<br/>9.0: 4<br/>9.2: 4<br/>9.4: 4<br/>9.6: 4<br/>9.8: 4</td>\n",
       "        \n",
       "    </tr>\n",
       "    <tr>\n",
       "        <th>Time range</th>\n",
       "        <td>0.000 – 1.463 s</td>\n",
       "    </tr>\n",
       "    <tr>\n",
       "        <th>Baseline</th>\n",
       "        <td>off</td>\n",
       "    </tr>\n",
       "</table>"
      ],
      "text/plain": [
       "<EpochsFIF |  160 events (all good), 0 – 1.46289 s, baseline off, ~58.6 MB, data loaded,\n",
       " '8.0': 4\n",
       " '8.2': 4\n",
       " '8.4': 4\n",
       " '8.6': 4\n",
       " '8.799999999999999': 4\n",
       " '9.0': 4\n",
       " '9.2': 4\n",
       " '9.4': 4\n",
       " '9.6': 4\n",
       " '9.8': 4\n",
       " and 30 more events ...>"
      ]
     },
     "execution_count": 36,
     "metadata": {},
     "output_type": "execute_result"
    }
   ],
   "source": [
    "#  carregar os dados\n",
    "data = mne.read_epochs(\"../preprocessing_beta/beta_epo.fif\")\n",
    "# entendimento dos dados\n",
    "print(data.get_data().shape)\n",
    "data"
   ]
  },
  {
   "cell_type": "code",
   "execution_count": 37,
   "metadata": {},
   "outputs": [
    {
     "name": "stdout",
     "output_type": "stream",
     "text": [
      "Possíveis alvos: [8.0, 8.2, 8.4, 8.6, 8.799999999999999, 9.0, 9.2, 9.4, 9.6, 9.8, 10.0, 10.2, 10.4, 10.6, 10.8, 11.0, 11.2, 11.4, 11.6, 11.8, 12.0, 12.2, 12.4, 12.600000000000001, 12.8, 13.0, 13.200000000000001, 13.4, 13.600000000000001, 13.8, 14.0, 14.200000000000001, 14.4, 14.600000000000001, 14.8, 15.0, 15.200000000000001, 15.4, 15.600000000000001, 15.8]\n",
      "Formato dos dados calculados: (160, 40, 1, 64, 13)\n"
     ]
    }
   ],
   "source": [
    "import numpy as np\n",
    "\n",
    "# TAREFA 3\n",
    "threshold = 0.5\n",
    "targets = [float(item) for item in data.event_id.keys()]\n",
    "print(\"Possíveis alvos:\", targets)\n",
    "\n",
    "features = list()\n",
    "for i in range(len(data)):\n",
    "    sample = list()\n",
    "    for target in targets:\n",
    "        sample.append(data[i].compute_psd(method='multitaper', fmin=7.5,\n",
    "                                          fmax=16.3, verbose=False))\n",
    "    features.append(sample)\n",
    "\n",
    "X = np.array(features)\n",
    "print(\"Formato dos dados calculados:\", X.shape)"
   ]
  },
  {
   "cell_type": "code",
   "execution_count": 38,
   "metadata": {},
   "outputs": [
    {
     "name": "stdout",
     "output_type": "stream",
     "text": [
      "Formato padronizado dos dados com PSD calculado: (160, 40, 64, 13)\n"
     ]
    }
   ],
   "source": [
    "# organizando os dados\n",
    "\n",
    "X = X.reshape(X.shape[0], X.shape[1], X.shape[3], X.shape[-1])\n",
    "print(\"Formato padronizado dos dados com PSD calculado:\", X.shape)"
   ]
  },
  {
   "cell_type": "code",
   "execution_count": 39,
   "metadata": {},
   "outputs": [
    {
     "data": {
      "text/plain": [
       "(160, 40, 64)"
      ]
     },
     "execution_count": 39,
     "metadata": {},
     "output_type": "execute_result"
    }
   ],
   "source": [
    "# TAREFA 4\n",
    "\n",
    "# aplicando a característica de \"maior valor\"\n",
    "max_values = np.max(X, axis=-1)\n",
    "max_values.shape"
   ]
  },
  {
   "cell_type": "code",
   "execution_count": 48,
   "metadata": {},
   "outputs": [
    {
     "name": "stdout",
     "output_type": "stream",
     "text": [
      "[ 8.6  8.8  9.   9.2  9.4  9.6  9.8 10.  10.2 10.4 10.6 10.8 11.  11.2\n",
      " 11.4 11.6 11.8 12.  12.2 12.4 12.6 12.8 13.  13.2 13.4 13.6 13.8 14.\n",
      " 14.2 14.4 14.6 14.8 15.  15.2 15.4 15.6 15.8  8.   8.2  8.4  8.6  8.8\n",
      "  9.   9.2  9.4  9.6  9.8 10.  10.2 10.4 10.6 10.8 11.  11.2 11.4 11.6\n",
      " 11.8 12.  12.2 12.4 12.6 12.8 13.  13.2 13.4 13.6 13.8 14.  14.2 14.4\n",
      " 14.6 14.8 15.  15.2 15.4 15.6 15.8  8.   8.2  8.4  8.6  8.8  9.   9.2\n",
      "  9.4  9.6  9.8 10.  10.2 10.4 10.6 10.8 11.  11.2 11.4 11.6 11.8 12.\n",
      " 12.2 12.4 12.6 12.8 13.  13.2 13.4 13.6 13.8 14.  14.2 14.4 14.6 14.8\n",
      " 15.  15.2 15.4 15.6 15.8  8.   8.2  8.4  8.6  8.8  9.   9.2  9.4  9.6\n",
      "  9.8 10.  10.2 10.4 10.6 10.8 11.  11.2 11.4 11.6 11.8 12.  12.2 12.4\n",
      " 12.6 12.8 13.  13.2 13.4 13.6 13.8 14.  14.2 14.4 14.6 14.8 15.  15.2\n",
      " 15.4 15.6 15.8  8.   8.2  8.4] [ 8.   8.2  8.4  8.6  8.8  9.   9.2  9.4  9.6  9.8 10.  10.2 10.4 10.6\n",
      " 10.8 11.  11.2 11.4 11.6 11.8 12.  12.2 12.4 12.6 12.8 13.  13.2 13.4\n",
      " 13.6 13.8 14.  14.2 14.4 14.6 14.8 15.  15.2 15.4 15.6 15.8] \n",
      "\n",
      "(160, 40) (160,)\n"
     ]
    },
    {
     "ename": "IndexError",
     "evalue": "index 51 is out of bounds for axis 0 with size 40",
     "output_type": "error",
     "traceback": [
      "\u001b[1;31m---------------------------------------------------------------------------\u001b[0m",
      "\u001b[1;31mIndexError\u001b[0m                                Traceback (most recent call last)",
      "\u001b[1;32mc:\\Users\\anaca\\OneDrive\\Documentos\\GitHub\\ssvep\\SSVEP\\classificador\\classifier_per_freq_beta.ipynb Cell 7\u001b[0m line \u001b[0;36m1\n\u001b[0;32m     <a href='vscode-notebook-cell:/c%3A/Users/anaca/OneDrive/Documentos/GitHub/ssvep/SSVEP/classificador/classifier_per_freq_beta.ipynb#W6sZmlsZQ%3D%3D?line=13'>14</a>\u001b[0m \u001b[39m# classificação pelo \"voto\" do maior valor\u001b[39;00m\n\u001b[0;32m     <a href='vscode-notebook-cell:/c%3A/Users/anaca/OneDrive/Documentos/GitHub/ssvep/SSVEP/classificador/classifier_per_freq_beta.ipynb#W6sZmlsZQ%3D%3D?line=14'>15</a>\u001b[0m i_max \u001b[39m=\u001b[39m max_values\u001b[39m.\u001b[39margmax(axis\u001b[39m=\u001b[39m\u001b[39m-\u001b[39m\u001b[39m1\u001b[39m)\n\u001b[1;32m---> <a href='vscode-notebook-cell:/c%3A/Users/anaca/OneDrive/Documentos/GitHub/ssvep/SSVEP/classificador/classifier_per_freq_beta.ipynb#W6sZmlsZQ%3D%3D?line=15'>16</a>\u001b[0m hits \u001b[39m=\u001b[39m [\u001b[39m1\u001b[39;49m \u001b[39mfor\u001b[39;49;00m i \u001b[39min\u001b[39;49;00m \u001b[39mrange\u001b[39;49m(\u001b[39mlen\u001b[39;49m(i_max)) \u001b[39mif\u001b[39;49;00m targets[i_max[i][\u001b[39m0\u001b[39;49m]] \u001b[39m==\u001b[39;49m y[i]]\n\u001b[0;32m     <a href='vscode-notebook-cell:/c%3A/Users/anaca/OneDrive/Documentos/GitHub/ssvep/SSVEP/classificador/classifier_per_freq_beta.ipynb#W6sZmlsZQ%3D%3D?line=16'>17</a>\u001b[0m acc \u001b[39m=\u001b[39m \u001b[39m100\u001b[39m \u001b[39m*\u001b[39m \u001b[39msum\u001b[39m(hits) \u001b[39m/\u001b[39m \u001b[39mlen\u001b[39m(y)\n\u001b[0;32m     <a href='vscode-notebook-cell:/c%3A/Users/anaca/OneDrive/Documentos/GitHub/ssvep/SSVEP/classificador/classifier_per_freq_beta.ipynb#W6sZmlsZQ%3D%3D?line=17'>18</a>\u001b[0m \u001b[39mprint\u001b[39m(\u001b[39mf\u001b[39m\u001b[39m'\u001b[39m\u001b[39m\\n\u001b[39;00m\u001b[39mPorcentagem de acerto: \u001b[39m\u001b[39m{\u001b[39;00macc\u001b[39m:\u001b[39;00m\u001b[39m.2f\u001b[39m\u001b[39m}\u001b[39;00m\u001b[39m%\u001b[39m\u001b[39m'\u001b[39m)\n",
      "\u001b[1;32mc:\\Users\\anaca\\OneDrive\\Documentos\\GitHub\\ssvep\\SSVEP\\classificador\\classifier_per_freq_beta.ipynb Cell 7\u001b[0m line \u001b[0;36m1\n\u001b[0;32m     <a href='vscode-notebook-cell:/c%3A/Users/anaca/OneDrive/Documentos/GitHub/ssvep/SSVEP/classificador/classifier_per_freq_beta.ipynb#W6sZmlsZQ%3D%3D?line=13'>14</a>\u001b[0m \u001b[39m# classificação pelo \"voto\" do maior valor\u001b[39;00m\n\u001b[0;32m     <a href='vscode-notebook-cell:/c%3A/Users/anaca/OneDrive/Documentos/GitHub/ssvep/SSVEP/classificador/classifier_per_freq_beta.ipynb#W6sZmlsZQ%3D%3D?line=14'>15</a>\u001b[0m i_max \u001b[39m=\u001b[39m max_values\u001b[39m.\u001b[39margmax(axis\u001b[39m=\u001b[39m\u001b[39m-\u001b[39m\u001b[39m1\u001b[39m)\n\u001b[1;32m---> <a href='vscode-notebook-cell:/c%3A/Users/anaca/OneDrive/Documentos/GitHub/ssvep/SSVEP/classificador/classifier_per_freq_beta.ipynb#W6sZmlsZQ%3D%3D?line=15'>16</a>\u001b[0m hits \u001b[39m=\u001b[39m [\u001b[39m1\u001b[39m \u001b[39mfor\u001b[39;00m i \u001b[39min\u001b[39;00m \u001b[39mrange\u001b[39m(\u001b[39mlen\u001b[39m(i_max)) \u001b[39mif\u001b[39;00m targets[i_max[i][\u001b[39m0\u001b[39;49m]] \u001b[39m==\u001b[39m y[i]]\n\u001b[0;32m     <a href='vscode-notebook-cell:/c%3A/Users/anaca/OneDrive/Documentos/GitHub/ssvep/SSVEP/classificador/classifier_per_freq_beta.ipynb#W6sZmlsZQ%3D%3D?line=16'>17</a>\u001b[0m acc \u001b[39m=\u001b[39m \u001b[39m100\u001b[39m \u001b[39m*\u001b[39m \u001b[39msum\u001b[39m(hits) \u001b[39m/\u001b[39m \u001b[39mlen\u001b[39m(y)\n\u001b[0;32m     <a href='vscode-notebook-cell:/c%3A/Users/anaca/OneDrive/Documentos/GitHub/ssvep/SSVEP/classificador/classifier_per_freq_beta.ipynb#W6sZmlsZQ%3D%3D?line=17'>18</a>\u001b[0m \u001b[39mprint\u001b[39m(\u001b[39mf\u001b[39m\u001b[39m'\u001b[39m\u001b[39m\\n\u001b[39;00m\u001b[39mPorcentagem de acerto: \u001b[39m\u001b[39m{\u001b[39;00macc\u001b[39m:\u001b[39;00m\u001b[39m.2f\u001b[39m\u001b[39m}\u001b[39;00m\u001b[39m%\u001b[39m\u001b[39m'\u001b[39m)\n",
      "\u001b[1;31mIndexError\u001b[0m: index 51 is out of bounds for axis 0 with size 40"
     ]
    }
   ],
   "source": [
    "# TAREFA 5\n",
    "\n",
    "y = np.load(\"../datasets/beta/labels.npy\")\n",
    "\n",
    "# entendimento dos dados\n",
    "print(y, targets, \"\\n\")\n",
    "\n",
    "# classificação pelo \"voto\" do maior valor\n",
    "i_max = max_values.argmax(axis=-1)\n",
    "\n",
    "# Verifique as dimensões dos arrays\n",
    "print(i_max.shape, y.shape)\n",
    "\n",
    "# classificação pelo \"voto\" do maior valor\n",
    "i_max = max_values.argmax(axis=-1)\n",
    "hits = [1 for i in range(len(i_max)) if targets[i_max[i][0]] == y[i]]\n",
    "acc = 100 * sum(hits) / len(y)\n",
    "print(f'\\nPorcentagem de acerto: {acc:.2f}%')"
   ]
  },
  {
   "cell_type": "code",
   "execution_count": null,
   "metadata": {},
   "outputs": [],
   "source": []
  }
 ],
 "metadata": {
  "kernelspec": {
   "display_name": "Python 3 (ipykernel)",
   "language": "python",
   "name": "python3"
  },
  "language_info": {
   "codemirror_mode": {
    "name": "ipython",
    "version": 3
   },
   "file_extension": ".py",
   "mimetype": "text/x-python",
   "name": "python",
   "nbconvert_exporter": "python",
   "pygments_lexer": "ipython3",
   "version": "3.11.4"
  }
 },
 "nbformat": 4,
 "nbformat_minor": 4
}
