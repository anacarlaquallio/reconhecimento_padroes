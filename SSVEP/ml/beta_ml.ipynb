{
 "cells": [
  {
   "cell_type": "markdown",
   "metadata": {},
   "source": [
    "## Análise da base de dados 'Beta' utilizando algoritmos de ML\n",
    "\n",
    "Neste notebook será analisado o 'Beta Dataset' utilizando algoritmos de ML para realizar (1) extração de característocas; (2) seleção de características e (3) classificação dos dados.\n",
    "\n",
    "### Pontos importantes\n",
    "- Frequências estimuladas (tota de 40, com a diferença de 0.2 Hz uma da outra): 8.9; 8.2, ...., 15.6, 15.8;\n",
    "- Taxa de amostragem: 250Hz"
   ]
  },
  {
   "cell_type": "markdown",
   "metadata": {},
   "source": [
    "### Analisar os momentos em que ocorrem evocação do sinal SSVEP\n",
    "\n",
    "1. Criar o objeto MNE a partir dos dados do participante;\n",
    "2. Aplicar no objeto MNE o filtro passa-faixa nos valores de 6 a 18 Hz;\n",
    "3. Criar cópias do objeto MNE (.copy()) com fatias de tempo menores para analisar momentos que ocorrem estímulos ou não (verificar artigo)´;\n",
    "    - 0.0 - 0.5 segundos e 2.5 - 3.0 segundos ocorre apenas ruído;\n",
    "    0.5 - 2.5 ocorre sinal SSVEP com ruído\n",
    "4. Com os sinais separados em objeto MNE, aplicar a FFT para que seja possível plotar gráficos que contenham (ou não) as informações (obet os dados no domínio da frequência com get_data para que seja possível plotar os gráficos)\n",
    "    - Os dados devem ser plotados no domínio da frequência após a transformada de Fourier. O FFT pode ser realizado pela biblioteca scipy.fft\n",
    "    - Deve ser observado que as janelas 0.0 - 0.5s com ruído não aparecerão de fato o sinal SSVEP"
   ]
  },
  {
   "cell_type": "markdown",
   "metadata": {},
   "source": [
    "### Extração de características\n",
    "\n",
    "Uma característica importante de acordo com o artigo base é o *signal-to-noise ratio* (SNR). Ao final desta etapa, será obtido um vetor de características. Estas podem ser:\n",
    "- SNR (obrigatória)\n",
    "- Maior valor espectral (FFT)\n",
    "- Média dos valores espectrais (FFT)\n",
    "\n",
    "Teremos um vetor de características de 64 x 3. Final (160, 64 + 64+ 64, 750)\n",
    "\n",
    "Dimensionalidade dos dados será explicada da seguinte formada: \n",
    "40, 4, 64, 750 -> 40 targets, 4 trials, 64 canais e 750 valores\n",
    "160, 64 (SNR) + 64 (média) + 64 (maior), ...\n",
    "\n",
    "Resultando em 160, 192"
   ]
  },
  {
   "cell_type": "markdown",
   "metadata": {},
   "source": [
    "### Seleção de características\n",
    "Como existem diversos eletrodos (canais) que não obtém sinal SSVEP, podemos extrair as características que não contribuem para a classificação dos dados. Podemos utilizar o método RFE (*Recursive Feature Elimination*), aplicado por meio de sklearn.feature_selecion.RFE, aprimorando o parâmetro n_features_to_select até obter o melhor resultado de classificação. Diminuir as features até o SVM dar o melhor resultado.\n",
    "\n",
    "Para a classificação propriamente dita, é considerado o uso do SVM (o kernel só pode ser linear)."
   ]
  },
  {
   "cell_type": "markdown",
   "metadata": {},
   "source": [
    "### Classificação dos dados"
   ]
  }
 ],
 "metadata": {
  "kernelspec": {
   "display_name": "Python 3",
   "language": "python",
   "name": "python3"
  },
  "language_info": {
   "codemirror_mode": {
    "name": "ipython",
    "version": 3
   },
   "file_extension": ".py",
   "mimetype": "text/x-python",
   "name": "python",
   "nbconvert_exporter": "python",
   "pygments_lexer": "ipython3",
   "version": "3.11.4"
  }
 },
 "nbformat": 4,
 "nbformat_minor": 2
}
