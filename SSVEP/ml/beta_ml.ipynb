{
 "cells": [
  {
   "cell_type": "markdown",
   "metadata": {},
   "source": [
    "### Análise da base de dados 'Beta' utilizando algoritmos de ML\n",
    "\n",
    "Neste notebook será analisado o 'Beta Dataset' utilizando algoritmos de ML para realizar (1) extração de característocas; (2) seleção de características e (3) classificação dos dados.\n",
    "\n",
    "#### Pontos importantes\n",
    "- Frequências estimuladas (tota de 40, com a diferença de 0.2 Hz uma da outra): 8.9; 8.2, ...., 15.6, 15.8;\n",
    "- Taxa de amostragem: 250Hz"
   ]
  },
  {
   "cell_type": "markdown",
   "metadata": {},
   "source": [
    "#### Analisar os momentos em que ocorrem evocação do sinal SSVEP\n",
    "\n",
    "1. Criar o objeto MNE a partir dos dados do participante;\n",
    "2. Aplicar no objeto MNE o filtro passa-faixa nos valores de 6 a 18 Hz;\n",
    "3. Criar cópias do objeto MNE (.copy()) com fatias de tempo menores para analisar momentos que ocorrem estímulos ou não (verificar artigo)´;\n",
    "    - 0.0 - 0.5 segundos e 2.5 - 3.0 segundos ocorre apenas ruído;\n",
    "    0.5 - 2.5 ocorre sinal SSVEP com ruído\n",
    "4. Com os sinais separados em objeto MNE, aplicar a FFT para que seja possível plotar gráficos que contenham (ou não) as informações (obet os dados no domínio da frequência com get_data para que seja possível plotar os gráficos)\n",
    "    - Os dados devem ser plotados no domínio da frequência após a transformada de Fourier. O FFT pode ser realizado pela biblioteca scipy.fft\n",
    "    - Deve ser observado que as janelas 0.0 - 0.5s com ruído não aparecerão de fato o sinal SSVEP"
   ]
  },
  {
   "cell_type": "markdown",
   "metadata": {},
   "source": [
    "#### Extração de características\n",
    "\n",
    "Uma característica importante de acordo com o artigo base é o *signal-to-noise ratio* (SNR). Ao final desta etapa, será obtido um vetor de características. Estas podem ser:\n",
    "- SNR (obrigatória)\n",
    "- Maior valor espectral (FFT)\n",
    "- Média dos valores espectrais (FFT)\n",
    "\n",
    "Teremos um vetor de características de 64 x 3. Final (160, 64 + 64+ 64, 750)\n",
    "\n",
    "Dimensionalidade dos dados será explicada da seguinte formada: \n",
    "40, 4, 64, 750 -> 40 targets, 4 trials, 64 canais e 750 valores\n",
    "160, 64 (SNR) + 64 (média) + 64 (maior), ...\n",
    "\n",
    "Resultando em 160, 192"
   ]
  },
  {
   "cell_type": "markdown",
   "metadata": {},
   "source": [
    "#### Seleção de características\n",
    "Como existem diversos eletrodos (canais) que não obtém sinal SSVEP, podemos extrair as características que não contribuem para a classificação dos dados. Podemos utilizar o método RFE (*Recursive Feature Elimination*), aplicado por meio de sklearn.feature_selecion.RFE, aprimorando o parâmetro n_features_to_select até obter o melhor resultado de classificação. Diminuir as features até o SVM dar o melhor resultado.\n",
    "\n",
    "Para a classificação propriamente dita, é considerado o uso do SVM (o kernel só pode ser linear)."
   ]
  },
  {
   "cell_type": "code",
   "execution_count": 1,
   "metadata": {},
   "outputs": [],
   "source": [
    "import mne\n",
    "import numpy as np"
   ]
  },
  {
   "cell_type": "code",
   "execution_count": 2,
   "metadata": {},
   "outputs": [
    {
     "name": "stdout",
     "output_type": "stream",
     "text": [
      "(160, 64, 750)\n"
     ]
    }
   ],
   "source": [
    "data = np.load(\"../datasets/beta/data.npy\")\n",
    "print(data.shape)"
   ]
  },
  {
   "cell_type": "code",
   "execution_count": 3,
   "metadata": {},
   "outputs": [],
   "source": [
    "# criação de um objeto \"info\"\n",
    "n_channels = 64\n",
    "sfreq = 250\n",
    "ch_names = [\"FP1\", \"FPZ\", \"FP2\", \"AF3\", \"AF4\", \"F7\", \"F5\", \"F3\", \"F1\", \"FZ\", \"F2\", \"F4\", \"F6\", \"F8\", \"FT7\", \"FC5\", \"FC3\", \"FC1\", \"FCZ\", \"FC2\", \"FC4\", \"FC6\", \"FT8\", \"T7\", \"C5\", \"C3\", \"C1\", \"CZ\", \"C2\", \"C4\", \"C6\", \"T8\", \"M1\", \"TP7\", \"CP5\", \"CP3\", \"CP1\", \"CPZ\", \"CP2\", \"CP4\", \"CP6\", \"TP8\", \"M2\", \"P7\", \"P5\", \"P3\", \"P1\", \"PZ\", \"P2\", \"P4\", \"P6\", \"P8\", \"PO7\", \"PO5\", \"PO3\", \"POZ\", \"PO4\", \"PO6\", \"PO8\", \"CB1\", \"O1\", \"OZ\", \"O2\", \"CB2\"]\n",
    "ch_types = ['eeg'] * n_channels\n",
    "info = mne.create_info(ch_names, sfreq=sfreq, ch_types=ch_types)"
   ]
  },
  {
   "cell_type": "code",
   "execution_count": 4,
   "metadata": {},
   "outputs": [
    {
     "name": "stdout",
     "output_type": "stream",
     "text": [
      "[ 8.6  8.8  9.   9.2  9.4  9.6  9.8 10.  10.2 10.4 10.6 10.8 11.  11.2\n",
      " 11.4 11.6 11.8 12.  12.2 12.4 12.6 12.8 13.  13.2 13.4 13.6 13.8 14.\n",
      " 14.2 14.4 14.6 14.8 15.  15.2 15.4 15.6 15.8  8.   8.2  8.4  8.6  8.8\n",
      "  9.   9.2  9.4  9.6  9.8 10.  10.2 10.4 10.6 10.8 11.  11.2 11.4 11.6\n",
      " 11.8 12.  12.2 12.4 12.6 12.8 13.  13.2 13.4 13.6 13.8 14.  14.2 14.4\n",
      " 14.6 14.8 15.  15.2 15.4 15.6 15.8  8.   8.2  8.4  8.6  8.8  9.   9.2\n",
      "  9.4  9.6  9.8 10.  10.2 10.4 10.6 10.8 11.  11.2 11.4 11.6 11.8 12.\n",
      " 12.2 12.4 12.6 12.8 13.  13.2 13.4 13.6 13.8 14.  14.2 14.4 14.6 14.8\n",
      " 15.  15.2 15.4 15.6 15.8  8.   8.2  8.4  8.6  8.8  9.   9.2  9.4  9.6\n",
      "  9.8 10.  10.2 10.4 10.6 10.8 11.  11.2 11.4 11.6 11.8 12.  12.2 12.4\n",
      " 12.6 12.8 13.  13.2 13.4 13.6 13.8 14.  14.2 14.4 14.6 14.8 15.  15.2\n",
      " 15.4 15.6 15.8  8.   8.2  8.4] (160,)\n"
     ]
    }
   ],
   "source": [
    "from sklearn.preprocessing import LabelEncoder\n",
    "\n",
    "labels = np.load(\"../datasets/beta/labels.npy\")\n",
    "print(labels, labels.shape)"
   ]
  },
  {
   "cell_type": "code",
   "execution_count": 6,
   "metadata": {},
   "outputs": [
    {
     "name": "stdout",
     "output_type": "stream",
     "text": [
      "Not setting metadata\n",
      "160 matching events found\n",
      "No baseline correction applied\n",
      "0 projection items activated\n",
      "Setting up band-pass filter from 6 - 18 Hz\n",
      "\n",
      "FIR filter parameters\n",
      "---------------------\n",
      "Designing a one-pass, zero-phase, non-causal bandpass filter:\n",
      "- Windowed time-domain design (firwin) method\n",
      "- Hamming window with 0.0194 passband ripple and 53 dB stopband attenuation\n",
      "- Lower passband edge: 6.00\n",
      "- Lower transition bandwidth: 2.00 Hz (-6 dB cutoff frequency: 5.00 Hz)\n",
      "- Upper passband edge: 18.00 Hz\n",
      "- Upper transition bandwidth: 4.50 Hz (-6 dB cutoff frequency: 20.25 Hz)\n",
      "- Filter length: 413 samples (1.652 s)\n",
      "\n"
     ]
    },
    {
     "name": "stderr",
     "output_type": "stream",
     "text": [
      "[Parallel(n_jobs=1)]: Done  17 tasks      | elapsed:    0.0s\n",
      "[Parallel(n_jobs=1)]: Done  71 tasks      | elapsed:    0.0s\n",
      "[Parallel(n_jobs=1)]: Done 161 tasks      | elapsed:    0.0s\n",
      "[Parallel(n_jobs=1)]: Done 287 tasks      | elapsed:    0.0s\n",
      "[Parallel(n_jobs=1)]: Done 449 tasks      | elapsed:    0.0s\n",
      "[Parallel(n_jobs=1)]: Done 647 tasks      | elapsed:    0.0s\n",
      "[Parallel(n_jobs=1)]: Done 881 tasks      | elapsed:    0.1s\n",
      "[Parallel(n_jobs=1)]: Done 1151 tasks      | elapsed:    0.2s\n",
      "[Parallel(n_jobs=1)]: Done 1457 tasks      | elapsed:    0.3s\n",
      "[Parallel(n_jobs=1)]: Done 1799 tasks      | elapsed:    0.3s\n",
      "[Parallel(n_jobs=1)]: Done 2177 tasks      | elapsed:    0.4s\n",
      "[Parallel(n_jobs=1)]: Done 2591 tasks      | elapsed:    0.5s\n",
      "[Parallel(n_jobs=1)]: Done 3041 tasks      | elapsed:    0.6s\n",
      "[Parallel(n_jobs=1)]: Done 3527 tasks      | elapsed:    0.8s\n",
      "[Parallel(n_jobs=1)]: Done 4049 tasks      | elapsed:    0.9s\n",
      "[Parallel(n_jobs=1)]: Done 4607 tasks      | elapsed:    1.0s\n",
      "[Parallel(n_jobs=1)]: Done 5201 tasks      | elapsed:    1.2s\n",
      "[Parallel(n_jobs=1)]: Done 5831 tasks      | elapsed:    1.3s\n",
      "[Parallel(n_jobs=1)]: Done 6497 tasks      | elapsed:    1.4s\n",
      "[Parallel(n_jobs=1)]: Done 7199 tasks      | elapsed:    1.6s\n",
      "[Parallel(n_jobs=1)]: Done 7937 tasks      | elapsed:    1.7s\n",
      "[Parallel(n_jobs=1)]: Done 8711 tasks      | elapsed:    1.9s\n",
      "[Parallel(n_jobs=1)]: Done 9521 tasks      | elapsed:    2.1s\n"
     ]
    },
    {
     "data": {
      "text/html": [
       "<table class=\"table table-hover table-striped table-sm table-responsive small\">\n",
       "    <tr>\n",
       "        <th>Number of events</th>\n",
       "        <td>160</td>\n",
       "    </tr>\n",
       "    <tr>\n",
       "        <th>Events</th>\n",
       "        \n",
       "        <td>10.0: 4<br/>10.2: 4<br/>10.4: 4<br/>10.6: 4<br/>10.8: 4<br/>11.0: 4<br/>11.2: 4<br/>11.4: 4<br/>11.6: 4<br/>11.8: 4<br/>12.0: 4<br/>12.2: 4<br/>12.4: 4<br/>12.600000000000001: 4<br/>12.8: 4<br/>13.0: 4<br/>13.200000000000001: 4<br/>13.4: 4<br/>13.600000000000001: 4<br/>13.8: 4<br/>14.0: 4<br/>14.200000000000001: 4<br/>14.4: 4<br/>14.600000000000001: 4<br/>14.8: 4<br/>15.0: 4<br/>15.200000000000001: 4<br/>15.4: 4<br/>15.600000000000001: 4<br/>15.8: 4<br/>8.0: 4<br/>8.2: 4<br/>8.4: 4<br/>8.6: 4<br/>8.799999999999999: 4<br/>9.0: 4<br/>9.2: 4<br/>9.4: 4<br/>9.6: 4<br/>9.8: 4</td>\n",
       "        \n",
       "    </tr>\n",
       "    <tr>\n",
       "        <th>Time range</th>\n",
       "        <td>0.000 – 2.996 s</td>\n",
       "    </tr>\n",
       "    <tr>\n",
       "        <th>Baseline</th>\n",
       "        <td>off</td>\n",
       "    </tr>\n",
       "</table>"
      ],
      "text/plain": [
       "<EpochsArray |  160 events (all good), 0 – 2.996 s, baseline off, ~58.6 MB, data loaded,\n",
       " '8.0': 4\n",
       " '8.2': 4\n",
       " '8.4': 4\n",
       " '8.6': 4\n",
       " '8.799999999999999': 4\n",
       " '9.0': 4\n",
       " '9.2': 4\n",
       " '9.4': 4\n",
       " '9.6': 4\n",
       " '9.8': 4\n",
       " and 30 more events ...>"
      ]
     },
     "execution_count": 6,
     "metadata": {},
     "output_type": "execute_result"
    }
   ],
   "source": [
    "# método para transformar labels categóricos\n",
    "data_correct = data\n",
    "le = LabelEncoder()\n",
    "events = np.column_stack((\n",
    "    np.array(range(len(labels))),\n",
    "    np.zeros(160, dtype=int),\n",
    "    le.fit_transform(labels))\n",
    ")\n",
    "\n",
    "event_dict = {str(value): index  for index, value in enumerate(sorted(set(labels)))}\n",
    "mne_data = mne.EpochsArray(data_correct, info, events, event_id=event_dict)\n",
    "filtered_mne_data = mne_data.filter(6, 18)\n",
    "filtered_mne_data"
   ]
  },
  {
   "cell_type": "code",
   "execution_count": 8,
   "metadata": {},
   "outputs": [],
   "source": [
    "# cópias de fatias de tempo\n",
    "tempo1 = filtered_mne_data.copy().crop(tmin=0.0, tmax=0.5)\n",
    "tempo2 = filtered_mne_data.copy().crop(tmin=0.5, tmax=2.5)\n",
    "tempo3 = filtered_mne_data.copy().crop(tmin=2.5, tmax=2.996)"
   ]
  }
 ],
 "metadata": {
  "kernelspec": {
   "display_name": "Python 3",
   "language": "python",
   "name": "python3"
  },
  "language_info": {
   "codemirror_mode": {
    "name": "ipython",
    "version": 3
   },
   "file_extension": ".py",
   "mimetype": "text/x-python",
   "name": "python",
   "nbconvert_exporter": "python",
   "pygments_lexer": "ipython3",
   "version": "3.11.4"
  }
 },
 "nbformat": 4,
 "nbformat_minor": 2
}
