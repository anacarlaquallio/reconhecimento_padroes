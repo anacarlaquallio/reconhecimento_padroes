{
 "cells": [
  {
   "cell_type": "markdown",
   "metadata": {},
   "source": [
    "## Classificação por isolamento de frequência\n",
    "\n",
    "Neste notebook será realizado um exemplo de classificação, isolando todas as frequências estimuladas no conjunto de dados `AVI SSVEP Single Target`. "
   ]
  },
  {
   "cell_type": "markdown",
   "metadata": {},
   "source": [
    "### Passos para a realização da classificação:\n",
    "\n",
    "1. **Carrega** o arquivo `fif` (`mne.EpochsArray`) dos dados **filtrados**;\n",
    "2. **Determine o limiar** para isolar cada uma das frequências estimuladas. Por exemplo, a faixa de frequência para o estímulo de 6.5 Hz irá resultar em pontos (`PSD`) que irão variar de 6.3 à 6.7 Hz, caso o limiar seja de 0.2 Hz;\n",
    "3. **Obter a \"energia\"** do sinal por meio do cálculo `compute_psd` para cada uma das faixas de frequência que podem ser estimuladas. Por exemplo:\n",
    "    - Obtenha todas as frequências estimuladas. Ex: 6, 6.5, 7, 7.5, 8.2 e 9.3;\n",
    "    - Obtenha o valor mínimo e o máximo para cada frequência utilizando limiar. Ex: (5.8, 6.2), (6.3, 6.7), ...\n",
    "    - Aplique o `compute_psd` para cada tupla (min, max), por meio dos parâmetros `fmin` e `fmax` do mesmo método.\n",
    "4. Com as listas de pontos isoladas e computadas (`PSD`) para cada amostra, aplique um cálculo de característica adequada. Características manuais interessantes para este exemplo podem ser `max_value`, `average` ou `median`. No fim deste passo iremos obter um **vetor de características**;\n",
    "5. Por fim, realize a **classificação**, que será um **cálculo de voto** simples (maior valor é provavelmente o a frequência evocada).\n",
    "\n",
    "A seguir, um exemplo desta classificação com os dados `single target` de `AVI dataset`:"
   ]
  },
  {
   "cell_type": "code",
   "execution_count": 1,
   "metadata": {},
   "outputs": [
    {
     "name": "stdout",
     "output_type": "stream",
     "text": [
      "Reading c:\\Users\\anaca\\OneDrive\\Documentos\\GitHub\\ssvep\\SSVEP\\src\\multi\\avi_multitarget_epo.fif ...\n",
      "Isotrak not found\n",
      "    Found the data of interest:\n",
      "        t =       0.00 ...   15998.05 ms\n",
      "        0 CTF compensation matrices available\n",
      "Not setting metadata\n",
      "100 matching events found\n",
      "No baseline correction applied\n",
      "0 projection items activated\n"
     ]
    }
   ],
   "source": [
    "import mne\n",
    "\n",
    "# tarefa 1\n",
    "data = mne.read_epochs(\"avi_multitarget_epo.fif\")"
   ]
  },
  {
   "cell_type": "code",
   "execution_count": 2,
   "metadata": {},
   "outputs": [
    {
     "name": "stdout",
     "output_type": "stream",
     "text": [
      "(100, 1, 8192)\n"
     ]
    },
    {
     "data": {
      "text/html": [
       "<table class=\"table table-hover table-striped table-sm table-responsive small\">\n",
       "    <tr>\n",
       "        <th>Number of events</th>\n",
       "        <td>100</td>\n",
       "    </tr>\n",
       "    <tr>\n",
       "        <th>Events</th>\n",
       "        \n",
       "        <td>6: 40<br/>6.5: 5<br/>7: 10<br/>7.5: 15<br/>8.2: 25<br/>9.3: 5</td>\n",
       "        \n",
       "    </tr>\n",
       "    <tr>\n",
       "        <th>Time range</th>\n",
       "        <td>0.000 – 15.998 s</td>\n",
       "    </tr>\n",
       "    <tr>\n",
       "        <th>Baseline</th>\n",
       "        <td>off</td>\n",
       "    </tr>\n",
       "</table>"
      ],
      "text/plain": [
       "<EpochsFIF |  100 events (all good), 0 – 15.998 s, baseline off, ~6.3 MB, data loaded,\n",
       " '6': 40\n",
       " '6.5': 5\n",
       " '7': 10\n",
       " '7.5': 15\n",
       " '8.2': 25\n",
       " '9.3': 5>"
      ]
     },
     "execution_count": 2,
     "metadata": {},
     "output_type": "execute_result"
    }
   ],
   "source": [
    "# TAREFA 2\n",
    "threshold = 0.23\n",
    "\n",
    "# entendimento dos dados\n",
    "print(data.get_data().shape)\n",
    "data"
   ]
  },
  {
   "cell_type": "code",
   "execution_count": 3,
   "metadata": {},
   "outputs": [
    {
     "name": "stdout",
     "output_type": "stream",
     "text": [
      "Possíveis alvos: [6.0, 6.5, 7.0, 7.5, 8.2, 9.3]\n",
      "Formato dos dados calculados: (100, 6, 1, 1, 7)\n"
     ]
    }
   ],
   "source": [
    "# TAREFA 3\n",
    "\n",
    "import numpy as np\n",
    "\n",
    "targets = [float(item) for item in data.event_id.keys()]\n",
    "print(\"Possíveis alvos:\", targets)\n",
    "\n",
    "features = list()\n",
    "for i in range(len(data)):\n",
    "    sample = list()\n",
    "    for target in targets:\n",
    "        fmin = target - threshold\n",
    "        fmax = target + threshold\n",
    "        sample.append(data[i].compute_psd(method='multitaper', fmin=fmin,\n",
    "                                          fmax=fmax, verbose=False))\n",
    "    features.append(sample)\n",
    "\n",
    "X = np.array(features)\n",
    "print(\"Formato dos dados calculados:\", X.shape)"
   ]
  },
  {
   "cell_type": "code",
   "execution_count": 4,
   "metadata": {},
   "outputs": [
    {
     "name": "stdout",
     "output_type": "stream",
     "text": [
      "Formato padronizado dos dados com PSD calculado: (100, 6, 7)\n"
     ]
    }
   ],
   "source": [
    "# organizando os dados\n",
    "\n",
    "X = X.reshape(X.shape[0], X.shape[1], X.shape[-1])\n",
    "print(\"Formato padronizado dos dados com PSD calculado:\", X.shape)"
   ]
  },
  {
   "cell_type": "code",
   "execution_count": 5,
   "metadata": {},
   "outputs": [
    {
     "data": {
      "text/plain": [
       "(100, 6)"
      ]
     },
     "execution_count": 5,
     "metadata": {},
     "output_type": "execute_result"
    }
   ],
   "source": [
    "# TAREFA 4\n",
    "\n",
    "# aplicando a característica de \"maior valor\"\n",
    "max_values = np.max(X, axis=-1)\n",
    "max_values.shape"
   ]
  },
  {
   "cell_type": "code",
   "execution_count": 6,
   "metadata": {},
   "outputs": [
    {
     "name": "stdout",
     "output_type": "stream",
     "text": [
      "[7.5 8.2 7.  8.2 6.  7.5 6.  6.  8.2 8.2 9.3 6.  6.  8.2 6.  6.5 7.5 7.\n",
      " 6.  6.  7.5 8.2 7.  8.2 6.  7.5 6.  6.  8.2 8.2 9.3 6.  6.  8.2 6.  6.5\n",
      " 7.5 7.  6.  6.  7.5 8.2 7.  8.2 6.  7.5 6.  6.  8.2 8.2 9.3 6.  6.  8.2\n",
      " 6.  6.5 7.5 7.  6.  6.  7.5 8.2 7.  8.2 6.  7.5 6.  6.  8.2 8.2 9.3 6.\n",
      " 6.  8.2 6.  6.5 7.5 7.  6.  6.  7.5 8.2 7.  8.2 6.  7.5 6.  6.  8.2 8.2\n",
      " 9.3 6.  6.  8.2 6.  6.5 7.5 7.  6.  6. ] (100,) [6.0, 6.5, 7.0, 7.5, 8.2, 9.3]\n",
      "[3 4 2 0 0 3 0 0 4 1 4 0 0 4 0 0 3 1 0 0 3 4 2 4 0 3 0 0 4 4 5 0 0 4 0 1 3\n",
      " 2 0 0 3 4 4 4 2 2 2 4 4 4 1 2 0 2 2 2 2 2 2 2 3 4 2 4 0 3 0 0 4 4 5 0 0 4\n",
      " 0 1 3 2 0 0 3 4 2 1 0 2 0 0 4 4 5 0 0 4 0 1 3 1 0 2]\n",
      "\n",
      "Porcentagem de acerto: 78.00%\n"
     ]
    }
   ],
   "source": [
    "# TAREFA 5\n",
    "\n",
    "y = np.load(\"../../datasets/avi/multi/labels_multi.npy\")\n",
    "\n",
    "# entendimento dos dados\n",
    "print(y, y.shape, targets)\n",
    "\n",
    "# classificação pelo \"voto\" do maior valor\n",
    "i_max = max_values.argmax(axis=-1)\n",
    "print(i_max)\n",
    "hits = [1 for i in range(len(i_max)) if targets[i_max[i]] == y[i]]\n",
    "acc = 100 * sum(hits) / len(y)\n",
    "print(f'\\nPorcentagem de acerto: {acc:.2f}%')"
   ]
  }
 ],
 "metadata": {
  "kernelspec": {
   "display_name": "Python 3 (ipykernel)",
   "language": "python",
   "name": "python3"
  },
  "language_info": {
   "codemirror_mode": {
    "name": "ipython",
    "version": 3
   },
   "file_extension": ".py",
   "mimetype": "text/x-python",
   "name": "python",
   "nbconvert_exporter": "python",
   "pygments_lexer": "ipython3",
   "version": "3.11.4"
  }
 },
 "nbformat": 4,
 "nbformat_minor": 4
}
