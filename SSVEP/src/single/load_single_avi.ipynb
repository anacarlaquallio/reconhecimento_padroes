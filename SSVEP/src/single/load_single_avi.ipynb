{
 "cells": [
  {
   "cell_type": "markdown",
   "id": "53201383-97a7-4d21-bcea-a9a45b191115",
   "metadata": {},
   "source": [
    "## AVI Single Target"
   ]
  },
  {
   "cell_type": "code",
   "execution_count": 3,
   "id": "7f86392c-d169-4703-892d-0e78f25e7572",
   "metadata": {},
   "outputs": [],
   "source": [
    "from scipy.io import loadmat\n",
    "import numpy as np"
   ]
  },
  {
   "cell_type": "code",
   "execution_count": 4,
   "id": "82f836d0-9ba2-47ee-8d9a-7340949a6db2",
   "metadata": {},
   "outputs": [],
   "source": [
    "# target é um alvo só\n",
    "# single target é um único alvo piscante. a intenção é verificar se a pessoa está prestando atenção; usar como base line; não ter desvios de foco\n",
    "# multi target tem pisca ao mesmo tempo (olhar para o 10 Hz, porém tem outras frequências também)"
   ]
  },
  {
   "cell_type": "code",
   "execution_count": 5,
   "id": "bf9cc385-02ed-4db0-84d1-95327166bbee",
   "metadata": {},
   "outputs": [],
   "source": [
    "# pré-carregamento\n",
    "\n",
    "avi_data = list()\n",
    "for i in range(1,5):\n",
    "    avi_data.append(loadmat(f\"../../datasets/avi/single/Sub{i}_singletarget.mat\"))"
   ]
  },
  {
   "cell_type": "code",
   "execution_count": 6,
   "id": "2d277758-8928-4783-ae4a-150833129f42",
   "metadata": {},
   "outputs": [
    {
     "name": "stdout",
     "output_type": "stream",
     "text": [
      "Divisão dos dados:\n",
      "(15360, 27)\n",
      "(15360, 26)\n",
      "(15360, 21)\n",
      "(15360, 21)\n",
      "\n",
      "Divisão dos rótulos (sequências):\n",
      "[[10.  10.  10.  12.  12.  12.   6.5  6.5  6.5  6.   6.   6.   6.   6.\n",
      "   6.   7.5  7.5  7.5  7.   7.   7.   8.2  8.2  8.2  9.3  9.3  9.3]]\n",
      "[[10.  10.  10.   6.5  6.5  6.5  6.5  6.   6.   6.   7.5  7.5  7.5  7.\n",
      "   7.   7.   7.   7.   7.   8.2  8.2  8.2  8.2  9.3  9.3  9.3]]\n",
      "[[10.  10.  10.   6.5  6.5  6.5  6.   6.   6.   7.5  7.5  7.5  7.   7.\n",
      "   7.   8.2  8.2  8.2  9.3  9.3  9.3]]\n",
      "[[10.  10.  10.   6.5  6.5  6.5  6.   6.   6.   7.5  7.5  7.5  7.   7.\n",
      "   7.   8.2  8.2  8.2  9.3  9.3  9.3]]\n"
     ]
    }
   ],
   "source": [
    "# extração direta dos dados\n",
    "\n",
    "X = [d['Data'][0][0][0] for d in avi_data]\n",
    "y = [d['Data'][0][0][1] for d in avi_data]\n",
    "\n",
    "print(\"Divisão dos dados:\")\n",
    "for data in X:\n",
    "    print(data.shape)\n",
    "\n",
    "print(\"\\nDivisão dos rótulos (sequências):\")\n",
    "for data in y:\n",
    "    print(data)"
   ]
  },
  {
   "cell_type": "code",
   "execution_count": 7,
   "id": "c7059d6b-0e02-49ac-aeac-cc224496626e",
   "metadata": {},
   "outputs": [
    {
     "data": {
      "text/plain": [
       "((15360, 21), (1, 21))"
      ]
     },
     "execution_count": 7,
     "metadata": {},
     "output_type": "execute_result"
    }
   ],
   "source": [
    "# padronizando 1º participante\n",
    "X1 = X[0][:, list(set(range(27)) - set([3, 4, 5, 12, 13, 14]))]\n",
    "y1 = y[0][:, list(set(range(27)) - set([3, 4, 5, 12, 13, 14]))]\n",
    "X1.shape, y1.shape"
   ]
  },
  {
   "cell_type": "code",
   "execution_count": 8,
   "id": "56beede1-995e-4518-bec5-4ed7e32500a1",
   "metadata": {},
   "outputs": [
    {
     "data": {
      "text/plain": [
       "((15360, 21), (1, 21))"
      ]
     },
     "execution_count": 8,
     "metadata": {},
     "output_type": "execute_result"
    }
   ],
   "source": [
    "# padronização do 2º participante\n",
    "X2 = X[1][:, list(set(range(26)) - set([6, 16, 17, 18, 22]))]\n",
    "y2 = y[1][:, list(set(range(26)) - set([6, 16, 17, 18, 22]))]\n",
    "X1.shape, y1.shape"
   ]
  },
  {
   "cell_type": "code",
   "execution_count": 9,
   "id": "7f9c0173-d335-43a3-8aa2-a838c4555900",
   "metadata": {},
   "outputs": [],
   "source": [
    "temp = list()\n",
    "temp.append(X1)\n",
    "temp.append(X2)\n",
    "temp.append(X[2])\n",
    "temp.append(X[3])"
   ]
  },
  {
   "cell_type": "code",
   "execution_count": 10,
   "id": "e343d6f1-142e-4472-a79c-ddf29ab03f78",
   "metadata": {},
   "outputs": [
    {
     "data": {
      "text/plain": [
       "(4, 15360, 21)"
      ]
     },
     "execution_count": 10,
     "metadata": {},
     "output_type": "execute_result"
    }
   ],
   "source": [
    "X = np.array(temp)\n",
    "X.shape"
   ]
  },
  {
   "cell_type": "code",
   "execution_count": 11,
   "id": "704180a0-de9a-4e4e-9e98-f9658fdd51fa",
   "metadata": {},
   "outputs": [
    {
     "data": {
      "text/plain": [
       "(4, 1, 21)"
      ]
     },
     "execution_count": 11,
     "metadata": {},
     "output_type": "execute_result"
    }
   ],
   "source": [
    "temp = list()\n",
    "temp.append(y1)\n",
    "temp.append(y2)\n",
    "temp.append(y[2])\n",
    "temp.append(y[3])\n",
    "\n",
    "y = np.array(temp)\n",
    "y.shape"
   ]
  },
  {
   "cell_type": "code",
   "execution_count": 12,
   "id": "85950856-3e19-44eb-868e-a77b789cad6c",
   "metadata": {},
   "outputs": [
    {
     "name": "stdout",
     "output_type": "stream",
     "text": [
      "(4, 21, 15360)\n"
     ]
    }
   ],
   "source": [
    "# Mudando o formato de X\n",
    "X_transposed = np.transpose(X, (0, 2, 1))\n",
    "\n",
    "# Verificar a nova forma de X\n",
    "print(X_transposed.shape)"
   ]
  },
  {
   "cell_type": "code",
   "execution_count": 13,
   "id": "e5731c9a-c4bd-4eb2-aae5-8694fc3f12f4",
   "metadata": {},
   "outputs": [],
   "source": [
    "# salva os dados numpy\n",
    "\n",
    "np.save(\"../../datasets/avi/single/data_sub1.npy\", X1)\n",
    "np.save(\"../../datasets/avi/single/labels_sub1.npy\", y1)\n",
    "\n",
    "np.save(\"../../datasets/avi/single/data_sub2.npy\", X2)\n",
    "np.save(\"../../datasets/avi/single/labels_sub2.npy\", y2)\n",
    "\n",
    "np.save(\"../../datasets/avi/single/data_sub3.npy\", X[2])\n",
    "np.save(\"../../datasets/avi/single/labels_sub3.npy\", y[2])\n",
    "\n",
    "np.save(\"../../datasets/avi/single/data_sub4.npy\", X[3])\n",
    "np.save(\"../../datasets/avi/single/labels_sub4.npy\", y[3])"
   ]
  },
  {
   "cell_type": "code",
   "execution_count": 14,
   "id": "2c16e0c9-93d9-4da0-9311-2a9e85a7d489",
   "metadata": {},
   "outputs": [
    {
     "data": {
      "text/plain": [
       "(84, 15360)"
      ]
     },
     "execution_count": 14,
     "metadata": {},
     "output_type": "execute_result"
    }
   ],
   "source": [
    "# Mudando o formato de X\n",
    "X_transposed = np.array([np.transpose(data) for data in X])\n",
    "X_transposed = X_transposed.reshape(X_transposed.shape[0]*X_transposed.shape[1], X_transposed.shape[2])\n",
    "X_transposed.shape"
   ]
  },
  {
   "cell_type": "code",
   "execution_count": 15,
   "id": "0992a262-9f8f-4d07-b19f-b30260adf5c8",
   "metadata": {},
   "outputs": [
    {
     "data": {
      "text/plain": [
       "array([10. , 10. , 10. ,  6.5,  6.5,  6.5,  6. ,  6. ,  6. ,  7.5,  7.5,\n",
       "        7.5,  7. ,  7. ,  7. ,  8.2,  8.2,  8.2,  9.3,  9.3,  9.3, 10. ,\n",
       "       10. , 10. ,  6.5,  6.5,  6.5,  6. ,  6. ,  6. ,  7.5,  7.5,  7.5,\n",
       "        7. ,  7. ,  7. ,  8.2,  8.2,  8.2,  9.3,  9.3,  9.3, 10. , 10. ,\n",
       "       10. ,  6.5,  6.5,  6.5,  6. ,  6. ,  6. ,  7.5,  7.5,  7.5,  7. ,\n",
       "        7. ,  7. ,  8.2,  8.2,  8.2,  9.3,  9.3,  9.3, 10. , 10. , 10. ,\n",
       "        6.5,  6.5,  6.5,  6. ,  6. ,  6. ,  7.5,  7.5,  7.5,  7. ,  7. ,\n",
       "        7. ,  8.2,  8.2,  8.2,  9.3,  9.3,  9.3])"
      ]
     },
     "execution_count": 15,
     "metadata": {},
     "output_type": "execute_result"
    }
   ],
   "source": [
    "y_combined = np.concatenate(y)\n",
    "\n",
    "y_combined = np.concatenate(y)\n",
    "y_transposed = np.array([np.transpose(data) for data in y_combined])\n",
    "y_transposed = y_transposed.reshape(1, -1)[0]\n",
    "\n",
    "y_transposed"
   ]
  },
  {
   "cell_type": "code",
   "execution_count": 16,
   "id": "910ef7f8-1af8-4b80-892c-807aaaabaddf",
   "metadata": {},
   "outputs": [],
   "source": [
    "np.save(\"../../datasets/avi/single/data_single.npy\", X_transposed)\n",
    "\n",
    "np.save(\"../../datasets/avi/single/labels_single.npy\", y_transposed)"
   ]
  }
 ],
 "metadata": {
  "kernelspec": {
   "display_name": "Python 3 (ipykernel)",
   "language": "python",
   "name": "python3"
  },
  "language_info": {
   "codemirror_mode": {
    "name": "ipython",
    "version": 3
   },
   "file_extension": ".py",
   "mimetype": "text/x-python",
   "name": "python",
   "nbconvert_exporter": "python",
   "pygments_lexer": "ipython3",
   "version": "3.11.4"
  }
 },
 "nbformat": 4,
 "nbformat_minor": 5
}
