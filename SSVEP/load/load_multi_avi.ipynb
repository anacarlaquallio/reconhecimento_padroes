{
 "cells": [
  {
   "cell_type": "markdown",
   "id": "90f9f0cc-3b3f-4e58-b47c-3523ce43cf92",
   "metadata": {},
   "source": [
    "## AVI Multi Taget"
   ]
  },
  {
   "cell_type": "code",
   "execution_count": 1,
   "id": "e039a02b-cc6c-41c2-8fc4-a1b3aed9ea5e",
   "metadata": {},
   "outputs": [],
   "source": [
    "# imports\n",
    "from scipy.io import loadmat\n",
    "import numpy as np"
   ]
  },
  {
   "cell_type": "code",
   "execution_count": 2,
   "id": "188d648c-c12e-4c06-88dc-c3e9d9ca614e",
   "metadata": {},
   "outputs": [],
   "source": [
    "# pré-carregamento\n",
    "\n",
    "avi_data = list()\n",
    "for i in range(1,6):\n",
    "    avi_data.append(loadmat(f\"../datasets/avi/multi/Sub{i}_1_multitarget.mat\"))\n",
    "    avi_data.append(loadmat(f\"../datasets/avi/multi/Sub{i}_2_multitarget.mat\"))"
   ]
  },
  {
   "cell_type": "code",
   "execution_count": 3,
   "id": "cfc13ae1-2950-4b0a-9cc3-fc88dcae87d3",
   "metadata": {},
   "outputs": [
    {
     "name": "stdout",
     "output_type": "stream",
     "text": [
      "Divisão dos dados:\n",
      "(8192, 10) (10, 8192)\n",
      "(8192, 10) (10, 8192)\n",
      "(8192, 10) (10, 8192)\n",
      "(8192, 10) (10, 8192)\n",
      "(8192, 10) (10, 8192)\n",
      "(8192, 10) (10, 8192)\n",
      "(8192, 10) (10, 8192)\n",
      "(8192, 10) (10, 8192)\n",
      "(8192, 10) (10, 8192)\n",
      "(8192, 10) (10, 8192)\n",
      "\n",
      "Divisão dos rótulos (sequências):\n",
      "[7.5 8.2 7.  8.2 6.  7.5 6.  6.  8.2 8.2]\n",
      "[9.3 6.  6.  8.2 6.  6.5 7.5 7.  6.  6. ]\n",
      "[7.5 8.2 7.  8.2 6.  7.5 6.  6.  8.2 8.2]\n",
      "[9.3 6.  6.  8.2 6.  6.5 7.5 7.  6.  6. ]\n",
      "[7.5 8.2 7.  8.2 6.  7.5 6.  6.  8.2 8.2]\n",
      "[9.3 6.  6.  8.2 6.  6.5 7.5 7.  6.  6. ]\n",
      "[7.5 8.2 7.  8.2 6.  7.5 6.  6.  8.2 8.2]\n",
      "[9.3 6.  6.  8.2 6.  6.5 7.5 7.  6.  6. ]\n",
      "[7.5 8.2 7.  8.2 6.  7.5 6.  6.  8.2 8.2]\n",
      "[9.3 6.  6.  8.2 6.  6.5 7.5 7.  6.  6. ]\n"
     ]
    }
   ],
   "source": [
    "# extração direta dos dados\n",
    "\n",
    "X = [d['Data'][0][0][7] for d in avi_data]\n",
    "y = [d['Data'][0][0][8][0] for d in avi_data]\n",
    "\n",
    "print(\"Divisão dos dados:\")\n",
    "for data in X:\n",
    "    print(data.shape, data.T.shape)\n",
    "\n",
    "print(\"\\nDivisão dos rótulos (sequências):\")\n",
    "for data in y:\n",
    "    print(data)"
   ]
  },
  {
   "cell_type": "code",
   "execution_count": 5,
   "id": "cd5cb212-faf2-4039-94c0-d523ae4260d7",
   "metadata": {},
   "outputs": [
    {
     "data": {
      "text/plain": [
       "array([7.5, 8.2, 7. , 8.2, 6. , 7.5, 6. , 6. , 8.2, 8.2, 9.3, 6. , 6. ,\n",
       "       8.2, 6. , 6.5, 7.5, 7. , 6. , 6. , 7.5, 8.2, 7. , 8.2, 6. , 7.5,\n",
       "       6. , 6. , 8.2, 8.2, 9.3, 6. , 6. , 8.2, 6. , 6.5, 7.5, 7. , 6. ,\n",
       "       6. , 7.5, 8.2, 7. , 8.2, 6. , 7.5, 6. , 6. , 8.2, 8.2, 9.3, 6. ,\n",
       "       6. , 8.2, 6. , 6.5, 7.5, 7. , 6. , 6. , 7.5, 8.2, 7. , 8.2, 6. ,\n",
       "       7.5, 6. , 6. , 8.2, 8.2, 9.3, 6. , 6. , 8.2, 6. , 6.5, 7.5, 7. ,\n",
       "       6. , 6. , 7.5, 8.2, 7. , 8.2, 6. , 7.5, 6. , 6. , 8.2, 8.2, 9.3,\n",
       "       6. , 6. , 8.2, 6. , 6.5, 7.5, 7. , 6. , 6. ])"
      ]
     },
     "execution_count": 5,
     "metadata": {},
     "output_type": "execute_result"
    }
   ],
   "source": [
    "# Mudando o formato de X\n",
    "X_transposed = np.array([np.transpose(data) for data in X])\n",
    "X_transposed = X_transposed.reshape(X_transposed.shape[0]*X_transposed.shape[1], X_transposed.shape[2])\n",
    "X_transposed.shape\n",
    "\n",
    "y_transposed = np.array([np.transpose(data) for data in y])\n",
    "y_transposed = y_transposed.reshape(1, y_transposed.shape[0]*y_transposed.shape[1])[0]\n",
    "y_transposed"
   ]
  },
  {
   "cell_type": "code",
   "execution_count": 20,
   "id": "59f849fb-4a9a-4834-a0a3-e18a8f7cd679",
   "metadata": {
    "scrolled": true
   },
   "outputs": [],
   "source": [
    "np.save(\"../datasets/avi/multi/data_multi.npy\", X_transposed)\n",
    "np.save(\"../datasets/avi/multi/labels_multi.npy\", y_transposed)\n",
    "\n",
    "# salva os dados numpy\n",
    "\n",
    "for i in range(0,10):\n",
    "    np.save(f\"../datasets/avi/multi/data_sub{i}.npy\", X[i])\n",
    "    np.save(f\"../datasets/avi/multi/label_sub{i}.npy\", y[i])\n"
   ]
  }
 ],
 "metadata": {
  "kernelspec": {
   "display_name": "Python 3 (ipykernel)",
   "language": "python",
   "name": "python3"
  },
  "language_info": {
   "codemirror_mode": {
    "name": "ipython",
    "version": 3
   },
   "file_extension": ".py",
   "mimetype": "text/x-python",
   "name": "python",
   "nbconvert_exporter": "python",
   "pygments_lexer": "ipython3",
   "version": "3.11.4"
  }
 },
 "nbformat": 4,
 "nbformat_minor": 5
}
