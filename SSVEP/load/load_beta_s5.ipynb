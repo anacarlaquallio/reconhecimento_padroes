{
 "cells": [
  {
   "cell_type": "markdown",
   "id": "983ded7e-cd1b-4d3c-a1ea-1bb86c33374c",
   "metadata": {},
   "source": [
    "## S5 Beta Dataset"
   ]
  },
  {
   "cell_type": "code",
   "execution_count": 11,
   "id": "533c8de4-305b-49b4-836f-b35ee66b689a",
   "metadata": {},
   "outputs": [],
   "source": [
    "# EEG (64 x 750 x 4 x 40)"
   ]
  },
  {
   "cell_type": "code",
   "execution_count": 12,
   "id": "d644b39f-c155-4837-93f3-1b7b55daf243",
   "metadata": {},
   "outputs": [],
   "source": [
    "# imports\n",
    "from scipy.io import loadmat, whosmat\n",
    "import numpy as np"
   ]
  },
  {
   "cell_type": "code",
   "execution_count": 13,
   "id": "6cfd86f9-c670-4f70-a4a8-85f6db180754",
   "metadata": {},
   "outputs": [],
   "source": [
    "# pré-carregamento\n",
    "beta_data = loadmat(f\"../datasets/beta/S5.mat\")"
   ]
  },
  {
   "cell_type": "code",
   "execution_count": 14,
   "id": "d3c5ef7d-a204-4ae3-b587-0a1d9bb4834e",
   "metadata": {},
   "outputs": [
    {
     "name": "stdout",
     "output_type": "stream",
     "text": [
      "Divisão dos dados:\n",
      "(64, 750, 4, 40)\n",
      "\n",
      "Divisão dos rótulos (sequências):\n",
      "(40,)\n",
      "[ 8.6  8.8  9.   9.2  9.4  9.6  9.8 10.  10.2 10.4 10.6 10.8 11.  11.2\n",
      " 11.4 11.6 11.8 12.  12.2 12.4 12.6 12.8 13.  13.2 13.4 13.6 13.8 14.\n",
      " 14.2 14.4 14.6 14.8 15.  15.2 15.4 15.6 15.8  8.   8.2  8.4]\n"
     ]
    }
   ],
   "source": [
    "X = beta_data['data'][0][0][0]\n",
    "y = beta_data['data'][0][0][1]['freqs'][0][0][0]\n",
    "\n",
    "print(\"Divisão dos dados:\")\n",
    "print(X.shape)\n",
    "\n",
    "print(\"\\nDivisão dos rótulos (sequências):\")\n",
    "print(y.shape)\n",
    "print(y)"
   ]
  },
  {
   "cell_type": "code",
   "execution_count": 15,
   "id": "87f001c2-2e57-4e38-8c0d-e776149499c1",
   "metadata": {},
   "outputs": [
    {
     "name": "stdout",
     "output_type": "stream",
     "text": [
      "(160, 64, 750)\n"
     ]
    }
   ],
   "source": [
    "# Mudando o formato de X\n",
    "X_transposed = np.array(np.transpose(X,  (2, 3, 0, 1)))\n",
    "X_transposed = X_transposed.reshape(X_transposed.shape[0] *X_transposed.shape[1], X_transposed.shape[2], X_transposed.shape[3])\n",
    "\n",
    "# Verificar a nova forma de X\n",
    "print(X_transposed.shape)"
   ]
  },
  {
   "cell_type": "code",
   "execution_count": 16,
   "id": "d88cb26c-b9ea-4737-a38b-15408495a82b",
   "metadata": {},
   "outputs": [
    {
     "data": {
      "text/plain": [
       "array([ 8.6,  8.8,  9. ,  9.2,  9.4,  9.6,  9.8, 10. , 10.2, 10.4, 10.6,\n",
       "       10.8, 11. , 11.2, 11.4, 11.6, 11.8, 12. , 12.2, 12.4, 12.6, 12.8,\n",
       "       13. , 13.2, 13.4, 13.6, 13.8, 14. , 14.2, 14.4, 14.6, 14.8, 15. ,\n",
       "       15.2, 15.4, 15.6, 15.8,  8. ,  8.2,  8.4,  8.6,  8.8,  9. ,  9.2,\n",
       "        9.4,  9.6,  9.8, 10. , 10.2, 10.4, 10.6, 10.8, 11. , 11.2, 11.4,\n",
       "       11.6, 11.8, 12. , 12.2, 12.4, 12.6, 12.8, 13. , 13.2, 13.4, 13.6,\n",
       "       13.8, 14. , 14.2, 14.4, 14.6, 14.8, 15. , 15.2, 15.4, 15.6, 15.8,\n",
       "        8. ,  8.2,  8.4,  8.6,  8.8,  9. ,  9.2,  9.4,  9.6,  9.8, 10. ,\n",
       "       10.2, 10.4, 10.6, 10.8, 11. , 11.2, 11.4, 11.6, 11.8, 12. , 12.2,\n",
       "       12.4, 12.6, 12.8, 13. , 13.2, 13.4, 13.6, 13.8, 14. , 14.2, 14.4,\n",
       "       14.6, 14.8, 15. , 15.2, 15.4, 15.6, 15.8,  8. ,  8.2,  8.4,  8.6,\n",
       "        8.8,  9. ,  9.2,  9.4,  9.6,  9.8, 10. , 10.2, 10.4, 10.6, 10.8,\n",
       "       11. , 11.2, 11.4, 11.6, 11.8, 12. , 12.2, 12.4, 12.6, 12.8, 13. ,\n",
       "       13.2, 13.4, 13.6, 13.8, 14. , 14.2, 14.4, 14.6, 14.8, 15. , 15.2,\n",
       "       15.4, 15.6, 15.8,  8. ,  8.2,  8.4])"
      ]
     },
     "execution_count": 16,
     "metadata": {},
     "output_type": "execute_result"
    }
   ],
   "source": [
    "y_transposed = np.array([np.transpose(data) for data in y]*4)\n",
    "y_transposed"
   ]
  },
  {
   "cell_type": "code",
   "execution_count": 17,
   "id": "e383a99c-e26a-49f7-8865-136f6a57009f",
   "metadata": {},
   "outputs": [],
   "source": [
    "np.save(\"../datasets/beta/data.npy\", X_transposed)\n",
    "np.save(\"../datasets/beta/labels.npy\", y_transposed)"
   ]
  }
 ],
 "metadata": {
  "kernelspec": {
   "display_name": "Python 3 (ipykernel)",
   "language": "python",
   "name": "python3"
  },
  "language_info": {
   "codemirror_mode": {
    "name": "ipython",
    "version": 3
   },
   "file_extension": ".py",
   "mimetype": "text/x-python",
   "name": "python",
   "nbconvert_exporter": "python",
   "pygments_lexer": "ipython3",
   "version": "3.11.4"
  }
 },
 "nbformat": 4,
 "nbformat_minor": 5
}
