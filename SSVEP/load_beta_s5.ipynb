{
 "cells": [
  {
   "cell_type": "markdown",
   "id": "983ded7e-cd1b-4d3c-a1ea-1bb86c33374c",
   "metadata": {},
   "source": [
    "## S5 Beta Dataset"
   ]
  },
  {
   "cell_type": "code",
   "execution_count": 38,
   "id": "533c8de4-305b-49b4-836f-b35ee66b689a",
   "metadata": {},
   "outputs": [],
   "source": [
    "# EEG (64 x 750 x 4 x 40)"
   ]
  },
  {
   "cell_type": "code",
   "execution_count": 39,
   "id": "d644b39f-c155-4837-93f3-1b7b55daf243",
   "metadata": {},
   "outputs": [],
   "source": [
    "# imports\n",
    "from scipy.io import loadmat, whosmat\n",
    "import numpy as np"
   ]
  },
  {
   "cell_type": "code",
   "execution_count": 40,
   "id": "6cfd86f9-c670-4f70-a4a8-85f6db180754",
   "metadata": {},
   "outputs": [],
   "source": [
    "# pré-carregamento\n",
    "avi_data = list()\n",
    "avi_data.append(loadmat(f\"datasets/beta/S5.mat\"))"
   ]
  },
  {
   "cell_type": "code",
   "execution_count": 77,
   "id": "d3c5ef7d-a204-4ae3-b587-0a1d9bb4834e",
   "metadata": {},
   "outputs": [
    {
     "name": "stdout",
     "output_type": "stream",
     "text": [
      "Divisão dos dados:\n",
      "(64, 750, 4, 40) (40, 4, 750, 64)\n",
      "\n",
      "Divisão dos rótulos (sequências):\n",
      "[[array([[ 8.6,  8.8,  9. ,  9.2,  9.4,  9.6,  9.8, 10. , 10.2, 10.4, 10.6,\n",
      "          10.8, 11. , 11.2, 11.4, 11.6, 11.8, 12. , 12.2, 12.4, 12.6, 12.8,\n",
      "          13. , 13.2, 13.4, 13.6, 13.8, 14. , 14.2, 14.4, 14.6, 14.8, 15. ,\n",
      "          15.2, 15.4, 15.6, 15.8,  8. ,  8.2,  8.4]])                      ]]\n"
     ]
    }
   ],
   "source": [
    "X = [d['data'][0][0][0] for d in avi_data]\n",
    "y = [d['data'][0][0]['suppl_info']['freqs'] for d in avi_data]\n",
    "\n",
    "print(\"Divisão dos dados:\")\n",
    "for data in X:\n",
    "    print(data.shape, data.T.shape)\n",
    "\n",
    "print(\"\\nDivisão dos rótulos (sequências):\")\n",
    "for data in y:\n",
    "    print(data)"
   ]
  },
  {
   "cell_type": "code",
   "execution_count": null,
   "id": "11073f1b-194a-46ae-85c8-ed23dc9b58e5",
   "metadata": {},
   "outputs": [],
   "source": []
  }
 ],
 "metadata": {
  "kernelspec": {
   "display_name": "Python 3 (ipykernel)",
   "language": "python",
   "name": "python3"
  },
  "language_info": {
   "codemirror_mode": {
    "name": "ipython",
    "version": 3
   },
   "file_extension": ".py",
   "mimetype": "text/x-python",
   "name": "python",
   "nbconvert_exporter": "python",
   "pygments_lexer": "ipython3",
   "version": "3.11.4"
  }
 },
 "nbformat": 4,
 "nbformat_minor": 5
}
