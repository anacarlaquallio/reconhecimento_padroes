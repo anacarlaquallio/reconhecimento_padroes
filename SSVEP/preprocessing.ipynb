{
 "cells": [
  {
   "cell_type": "markdown",
   "metadata": {},
   "source": [
    "## Visualização e pré-processamento"
   ]
  },
  {
   "cell_type": "markdown",
   "metadata": {},
   "source": [
    "A seguir, a implementação de cada um dos filtros: passa-faixa (bandpass), passa-baixa (lowpass), passa-alta (highpass) e corta-faixa (notch)."
   ]
  },
  {
   "cell_type": "code",
   "execution_count": null,
   "metadata": {},
   "outputs": [],
   "source": [
    "%matplotlib inline\n",
    "import matplotlib.pyplot as plt\n",
    "from matplotlib import rcParams\n",
    "import numpy as np\n",
    "from scipy import signal\n",
    "from sklearn.preprocessing import LabelEncoder\n",
    "import mne\n",
    "\n",
    "\n",
    "# definições de filtros\n",
    "\n",
    "# filtro em que você deseja extrair frequências em uma faixa específica de interesse\n",
    "def butter_bandpass(data, lowcut, highcut, fs=512, order=4):\n",
    "    nyq = fs * 0.5\n",
    "    low = lowcut / nyq\n",
    "    high = highcut / nyq\n",
    "    b, a = signal.butter(order, [low, high], btype='bandpass')\n",
    "    return signal.filtfilt(b, a, data)\n",
    "\n",
    "# filtro usado quando você deseja remover componentes de alta frequência do sinal\n",
    "def butter_lowpass(data, lowcut, fs=512, order=4):\n",
    "    nyq = fs * 0.5\n",
    "    low = lowcut / nyq\n",
    "    b, a = signal.butter(order, low, btype='lowpass')\n",
    "    return signal.filtfilt(b, a, data)\n",
    "\n",
    "# filtro usado para remover componentes de baixa frequência do sinal\n",
    "def butter_highpass(data, highcut, fs=512, order=4):\n",
    "    nyq = fs * 0.5\n",
    "    high = highcut / nyq\n",
    "    b, a = signal.butter(order, high, btype='highpass')\n",
    "    return signal.filtfilt(b, a, data)\n",
    "\n",
    "# filtro para remover interferências de frequência, como ruído elétrico de 50 ou 60 Hz em dados EEG.\n",
    "def butter_notch(data, cutoff, var=1, fs=512, order=4):\n",
    "    nyq = fs * 0.5\n",
    "    low = (cutoff - var) / nyq\n",
    "    high = (cutoff + var) / nyq\n",
    "    b, a = signal.iirfilter(order, [low, high], btype='bandstop', ftype=\"butter\")\n",
    "    return signal.filtfilt(b, a, data)"
   ]
  },
  {
   "cell_type": "markdown",
   "metadata": {},
   "source": [
    "Para imprimir os dados no domínio da frequência, foi utilizado a função `matplotlib.pyplot.psd` que na verdade utiliza a transformação dos dados por FFT, porém aplica uma característica que evidencia a \"energia\" dos dados, chamado de PSD (_Power Spectrum Density_)\n",
    "\n",
    "Definição de função para imprimir os dados no domínio do tempo e da frequência:"
   ]
  },
  {
   "cell_type": "code",
   "execution_count": null,
   "metadata": {},
   "outputs": [],
   "source": [
    "# psd é pegar todos os dados transformados no domínio do tempo e frequência, deixando mais evidente as informações com a amplitude (potência mais alta)\n",
    "# quando coloca no domínio da frequência vem a parte imaginária, por isso faz módulo. psd consegue mostrar a parte imaginária. serve para a classificação\n",
    "# cores -> energia do sinal \n",
    "def print_graphs(data):\n",
    "    for i in range(0, 21, 3):\n",
    "        plt.plot(data[i,:])\n",
    "    plt.title('Domínio do tempo')\n",
    "    plt.show()\n",
    "\n",
    "    for i in range(0, 21, 3):\n",
    "        plt.psd(data[i,:], Fs=512)\n",
    "    plt.title('Domínio da frequência')\n",
    "    plt.show()\n",
    "\n",
    "    for i in range(0, 21, 3):\n",
    "        plt.specgram(data[i,:], Fs=512)\n",
    "    plt.title('Espectograma')\n",
    "    plt.show()"
   ]
  },
  {
   "cell_type": "markdown",
   "metadata": {},
   "source": [
    "Carregamento dos dados de um participante da base de dados AVI:"
   ]
  },
  {
   "cell_type": "code",
   "execution_count": null,
   "metadata": {},
   "outputs": [],
   "source": [
    "data = np.load(\"datasets/avi/single/data_sub1.npy\")\n",
    "print(data.shape)\n",
    "\n",
    "# Transpondo dados para organizar os dados na última dimensão\n",
    "data = data.T\n",
    "data.shape"
   ]
  },
  {
   "cell_type": "markdown",
   "metadata": {},
   "source": [
    "Visualização do sinal em todos os domínios apresentados, sem a aplicação de nenhum filtro:"
   ]
  },
  {
   "cell_type": "code",
   "execution_count": null,
   "metadata": {},
   "outputs": [],
   "source": [
    "# definição dos tamanhos das figuras\n",
    "rcParams['figure.figsize'] = [16., 5.]\n",
    "print_graphs(data)"
   ]
  },
  {
   "cell_type": "markdown",
   "metadata": {},
   "source": [
    "Para facilitar o trabalho de visualização dos dados nas faixas de frequência de trabalho, vamos utilizar a ferramenta `MNE`:"
   ]
  },
  {
   "cell_type": "code",
   "execution_count": null,
   "metadata": {},
   "outputs": [],
   "source": [
    "#abcissa = frequencias\n",
    "# criação de um objeto \"info\"\n",
    "n_channels = 1 # criação de um canal. no beta vai ter mais\n",
    "sfreq = 512 #64 beta; 512 amostras serão registradas pors egundo (2x256)\n",
    "ch_names = ['Oz'] # nome do canal\n",
    "ch_types = ['eeg'] # tipo do canal\n",
    "info = mne.create_info(ch_names, sfreq=sfreq, ch_types=ch_types)\n",
    "info"
   ]
  },
  {
   "cell_type": "code",
   "execution_count": null,
   "metadata": {},
   "outputs": [],
   "source": [
    "from sklearn.preprocessing import LabelEncoder\n",
    "\n",
    "labels = np.load(\"datasets/avi/single/labels_sub1.npy\")[0]\n",
    "print(labels, labels.shape)\n",
    "#repete os targets 3 vezes"
   ]
  },
  {
   "cell_type": "code",
   "execution_count": null,
   "metadata": {},
   "outputs": [],
   "source": [
    "# data : array, shape (n_epochs, n_channels, n_times)\n",
    "data_correct = data.reshape(data.shape[0], 1, data.shape[1])\n",
    "# adicionando label como \"épocas\" do sinal\n",
    "labels = np.load(\"datasets/avi/single/labels_sub1.npy\")[0]\n",
    "# método para transformar labels categóricos\n",
    "le = LabelEncoder()\n",
    "events = np.column_stack((\n",
    "    np.array(range(len(labels))),\n",
    "    np.zeros(21, dtype=int),\n",
    "    le.fit_transform(labels))\n",
    ")\n",
    "print(events) # a coluna do meio cortou nada, a última coluna é identificador do evento\n",
    "event_dict = {'6':0, '6.5':1, '7':2, '7.5':3, '8.2':4, '9.3':5, '10':6} # 6Hz está armazenado em 0...\n",
    "mne_data = mne.EpochsArray(data_correct, info, events, event_id=event_dict) # 3 eventos com 10...\n",
    "mne_data"
   ]
  },
  {
   "cell_type": "code",
   "execution_count": null,
   "metadata": {},
   "outputs": [],
   "source": [
    "#ocorreram 21 evocações\n",
    "# view = mne_data.compute_psd(method='welch', fmin=3, fmax=13)\n",
    "# for i in range(len(mne_data)\n",
    "# view = mne_data[i].compute_psd(method='multitaper', fmin=3, fmax=13)\n",
    "#viei.plot()\n",
    "#view = mne_data[20].compute_psd(method='multitaper', fmin=3, fmax=13) #o que está em mne_data é identificador; professor fez um for; frequência mínima  máxima\n",
    "#print(len(mne_data))\n",
    "#view.plot()\n",
    "#print()\n",
    "\n",
    "# como aplicar os filtros temporais no mne a partir dos dados do objeto epox?"
   ]
  },
  {
   "cell_type": "code",
   "execution_count": null,
   "metadata": {},
   "outputs": [],
   "source": [
    "import warnings\n",
    "warnings.filterwarnings('ignore')\n",
    "\n",
    "for i in range(len(mne_data)):\n",
    "    # view = mne_data.compute_psd(method='welch', fmin=3, fmax=13)\n",
    "    view = mne_data[i].compute_psd(method='multitaper', fmin=3, fmax=13,\n",
    "                                   verbose=False)\n",
    "    view.plot(show=False)\n",
    "    print()\n",
    "    plt.title('Domínio da frequência')\n",
    "    plt.axvline(x=float(list(mne_data[i].event_id)[0]), linestyle='--',\n",
    "                color='green')\n",
    "    plt.show()\n",
    "print()"
   ]
  }
 ],
 "metadata": {
  "kernelspec": {
   "display_name": "Python 3 (ipykernel)",
   "language": "python",
   "name": "python3"
  },
  "language_info": {
   "codemirror_mode": {
    "name": "ipython",
    "version": 3
   },
   "file_extension": ".py",
   "mimetype": "text/x-python",
   "name": "python",
   "nbconvert_exporter": "python",
   "pygments_lexer": "ipython3",
   "version": "3.11.4"
  }
 },
 "nbformat": 4,
 "nbformat_minor": 4
}
