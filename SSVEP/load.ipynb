{
 "cells": [
  {
   "cell_type": "code",
   "execution_count": 75,
   "metadata": {},
   "outputs": [],
   "source": [
    "# imports\n",
    "# Base de dados AVI SSVep\n",
    "from scipy.io import loadmat\n",
    "import numpy as np\n",
    "\n",
    "# target é um alvo só\n",
    "# single target é um único alvo piscante. a intenção é verificar se a pessoa está prestando atenção; usar como base line; não ter desvios de foco\n",
    "# multi target tem pisca ao mesmo tempo (olhar para o 10 Hz, porém tem outras frequências também)"
   ]
  },
  {
   "cell_type": "code",
   "execution_count": 76,
   "metadata": {},
   "outputs": [],
   "source": [
    "# pré-carregamento\n",
    "avi_data = list()\n",
    "for i in range(1,5):\n",
    "    avi_data.append(loadmat(f\"datasets/avi/single/Sub{i}_singletarget.mat\"))"
   ]
  },
  {
   "cell_type": "code",
   "execution_count": 77,
   "metadata": {},
   "outputs": [
    {
     "name": "stdout",
     "output_type": "stream",
     "text": [
      "Divisão dos dados:\n",
      "(15360, 27)\n",
      "(15360, 26)\n",
      "(15360, 21)\n",
      "(15360, 21)\n",
      "\n",
      "Divisão dos rótulos (sequências):\n",
      "[[10.  10.  10.  12.  12.  12.   6.5  6.5  6.5  6.   6.   6.   6.   6.\n",
      "   6.   7.5  7.5  7.5  7.   7.   7.   8.2  8.2  8.2  9.3  9.3  9.3]]\n",
      "[[10.  10.  10.   6.5  6.5  6.5  6.5  6.   6.   6.   7.5  7.5  7.5  7.\n",
      "   7.   7.   7.   7.   7.   8.2  8.2  8.2  8.2  9.3  9.3  9.3]]\n",
      "[[10.  10.  10.   6.5  6.5  6.5  6.   6.   6.   7.5  7.5  7.5  7.   7.\n",
      "   7.   8.2  8.2  8.2  9.3  9.3  9.3]]\n",
      "[[10.  10.  10.   6.5  6.5  6.5  6.   6.   6.   7.5  7.5  7.5  7.   7.\n",
      "   7.   8.2  8.2  8.2  9.3  9.3  9.3]]\n"
     ]
    }
   ],
   "source": [
    "# extração direta dos dados\n",
    "# x equivale aos 4 participantes\n",
    "# y é label\n",
    "X = [d['Data'][0][0][0] for d in avi_data]\n",
    "y = [d['Data'][0][0][1] for d in avi_data]\n",
    "\n",
    "print(\"Divisão dos dados:\") # lado direito é o número de colunas\n",
    "for data in X:\n",
    "    print(data.shape)\n",
    "\n",
    "print(\"\\nDivisão dos rótulos (sequências):\") # mostra as frequências. 30 segundos pisca 10 HZ. Tira o 12. São 4 participantes \n",
    "for data in y:\n",
    "    print(data)\n",
    "\n",
    "# note que os dois últimos repetem 3 vezes sempre. ele está limpando os 2 primeiros"
   ]
  },
  {
   "cell_type": "code",
   "execution_count": 78,
   "metadata": {},
   "outputs": [
    {
     "data": {
      "text/plain": [
       "(4, 1, 21)"
      ]
     },
     "execution_count": 78,
     "metadata": {},
     "output_type": "execute_result"
    }
   ],
   "source": [
    "# Padronização de y\n",
    "temp2 = list()\n",
    "temp2.append(y[0][:, list(set(range(27)) - set([3, 4, 5, 12, 13, 14]))])\n",
    "temp2.append(y[1][:, list(set(range(26)) - set([6, 16, 17, 18, 22]))])\n",
    "temp2.append(y[2])\n",
    "temp2.append(y[3])\n",
    "y = np.array(temp2)\n",
    "y.shape"
   ]
  },
  {
   "cell_type": "code",
   "execution_count": 79,
   "metadata": {},
   "outputs": [
    {
     "data": {
      "text/plain": [
       "(4, 15360, 21)"
      ]
     },
     "execution_count": 79,
     "metadata": {},
     "output_type": "execute_result"
    }
   ],
   "source": [
    "# padronizando 1º participante\n",
    "# X[0] apenas o primeiro participante\n",
    "# [:mantém o 15360; depois faz todos - aqueles que não quer \n",
    "\n",
    "temp = list()\n",
    "temp.append(X[0][:, list(set(range(27)) - set([3, 4, 5, 12, 13, 14]))])\n",
    "temp.append(X[1][:, list(set(range(26)) - set([6, 16, 17, 18, 22]))])\n",
    "temp.append(X[2])\n",
    "temp.append(X[3])\n",
    "\n",
    "X = np.array(temp)\n",
    "X.shape"
   ]
  },
  {
   "cell_type": "code",
   "execution_count": 80,
   "metadata": {},
   "outputs": [],
   "source": [
    "# salva os dados numpy\n",
    "# salva o notebook como um metadado direto\n",
    "\n",
    "np.save(\"datasets/avi/single/data_sub.npy\", X)\n",
    "np.save(\"datasets/avi/single/labels_sub.npy\", y)\n",
    "\n",
    "# salvar como 4, 21, 15360"
   ]
  },
  {
   "cell_type": "markdown",
   "metadata": {},
   "source": [
    "### Tarefas:\n",
    "\n",
    "- Padronizar os dados de todos os 4 participantes dos dados *single-target* e salvar de forma adequada para utilização nos próximos notebooks.\n",
    "- Realizar o mesmo estudo para os dados *multi-target*\n",
    "- Deixar todos com 21 senão não dá para fazer matriz esparsa\n",
    "- Entender o multi-target"
   ]
  },
  {
   "cell_type": "code",
   "execution_count": null,
   "metadata": {},
   "outputs": [],
   "source": []
  }
 ],
 "metadata": {
  "kernelspec": {
   "display_name": "Python 3 (ipykernel)",
   "language": "python",
   "name": "python3"
  },
  "language_info": {
   "codemirror_mode": {
    "name": "ipython",
    "version": 3
   },
   "file_extension": ".py",
   "mimetype": "text/x-python",
   "name": "python",
   "nbconvert_exporter": "python",
   "pygments_lexer": "ipython3",
   "version": "3.11.4"
  }
 },
 "nbformat": 4,
 "nbformat_minor": 4
}
