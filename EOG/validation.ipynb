{
 "cells": [
  {
   "cell_type": "markdown",
   "metadata": {},
   "source": [
    "## Validação dos dados EOG\n",
    "\n",
    "Neste notebook está incluído os seguintes passos:\n",
    "- Aplicação de características;\n",
    "- Criação do vetor de características;\n",
    "- Normalização de dados;\n",
    "- Seleção de características;\n",
    "- Classificação dos dados."
   ]
  },
  {
   "cell_type": "markdown",
   "metadata": {},
   "source": [
    "Uma característica é uma propriedade individual mensurável ou característica de um fenômeno que está sendo observado. Em nosso caso de EOG, uma característica pode ser extraída no domínio do tempo ou no domínio da frequência. As características a seguir foram retiradas do artigo *EMG Feature Extraction for Tolerance of White Gaussian Noise* \\[1\\]."
   ]
  },
  {
   "cell_type": "markdown",
   "metadata": {},
   "source": [
    "#### Domínio do tempo\n",
    "\n",
    "1. Willison Amplitude (WAMP)\n",
    "\n",
    "    > $ \\sum_{i=1}^{N-1}f(|x_i - x_{i+1}|) $\n",
    "    \n",
    "    > $ f(x) = \\begin{cases} 1 & \\text{if } x \\gt threshold \\\\ 0 & \\text{otherwise} \\end{cases} $\n",
    "\n",
    "2. Variance of EMG (VAR)\n",
    "\n",
    "    > $ \\frac{1}{N-1}\\sum_{i=1}^{N}x_i^2 $\n",
    "\n",
    "3. Root Mean Square (RMS)\n",
    "\n",
    "    > $ \\sqrt{\\frac{1}{N}\\sum_{i=1}^{N}|x_i|^2} $\n",
    "\n",
    "4. Waveform Length (WL)\n",
    "    \n",
    "    > $ \\sum_{i=1}^{N-1}|x_{i+1} - x_i| $\n",
    "\n",
    "5. Zero Crossing (ZC)\n",
    "\n",
    "    > $ \\sum_{i=1}^{N}sgn(x_i) $\n",
    "    \n",
    "    > $ sgn(x) = \\begin{cases} 1 & \\text{if } x_i * x_{i+1} \\leq 0 \\\\ 0 & \\text{otherwise} \\end{cases} $"
   ]
  },
  {
   "cell_type": "markdown",
   "metadata": {},
   "source": [
    "#### Domínio da frequência\n",
    "\n",
    "1. Median Frequency (FMD): energia média do sinal no domínio da frequência\n",
    "\n",
    "    > $ \\frac{1}{2}\\sum_{j=1}^{M}PSD_j $\n",
    "\n",
    "2. Mean Frequency (FMN)\n",
    "\n",
    "    > $\\sum_{j=1}^{M}f_j PSD_j / \\sum_{j=1}^{M}PSD_j$\n",
    "    \n",
    "    > $ f_j = j * SampleRate / 2 * M $\n",
    "\n",
    "3. Modified Median Frequency (MMDF)\n",
    "\n",
    "    > $ \\frac{1}{2}\\sum_{j=1}^{M}A_j $\n",
    "    \n",
    "    > $ A_j = Amplitude\\ do\\ espectro\\ j $\n",
    "\n",
    "4. Modified Frequency Mean (MMNF)\n",
    "\n",
    "    > $ \\sum_{j=1}^{M}f_jAj / \\sum_{j=1}^{M}Aj $\n",
    "\n",
    "\n",
    "\\[1\\] Phinyomark, Angkoon & Limsakul, Chusak & Phukpattaranont, P.. (2008). EMG Feature Extraction for Tolerance of White Gaussian Noise.\n",
    "[Disponível neste link](https://www.researchgate.net/publication/263765853_EMG_Feature_Extraction_for_Tolerance_of_White_Gaussian_Noise)"
   ]
  },
  {
   "cell_type": "markdown",
   "metadata": {},
   "source": [
    "**Tarefa 1**: Descrever as características de acordo com o artigo citado e outros disponíveis relacionados. O que está querendo \"ser visto\" em cada característica? Qual é o significado matemático de cada uma delas?\n",
    "\n",
    "**Domínio do tempo**\n",
    "- Willison Amplitude (WAMP): é uma medida estatística que quantifica a quantidade de variação absoluta em uma série temporal. Ela é frequentemente usada em análise de séries temporais para identificar mudanças abruptas ou picos. Essencialmente, o WAMP é calculado somando as diferenças absolutas entre pontos consecutivos na série temporal, excluindo o primeiro ponto, já que não há ponto anterior para comparar. Significado matemático: $N$ é o número total de pontos na série temporal; $x_i$​ é o valor da série temporal no tempo $t$; $x_{i−1​}$ é o valor da série temporal no tempo $i-1$ e $∣\\cdot∣$ denota o valor absoluto.\n",
    "\n",
    "- Variance of EMG (VAR): a variância (VAR) da amplitude do sinal eletromiográfico é uma medida estatística que quantifica a dispersão dos valores de amplitude no sinal EMG. A variância é uma medida de quão distantes os valores individuais do sinal estão da média. Se a variância for alta, isso indica que os valores individuais estão mais dispersos, enquanto uma variância baixa indica que os valores estão mais próximos da média. Significado matemático: $N$ e $x_i$ são, respectivamente, o comprimento e o enésimo valor amostral do sinal EMG.\n",
    "\n",
    "- Root Mean Square (RMS): a raiz quadrada da média dos quadrados é uma medida estatística utilizada para representar a magnitude de um conjunto de valores. No contexto de sinais, como o sinal eletromiográfico (EMG) ou de áudio, o RMS é frequentemente usado para quantificar a amplitude eficaz do sinal. Significado matemático: $N$ e $x_i$ são, respectivamente, o comprimento e o enésimo valor amostral do sinal EMG.\n",
    "\n",
    "- Waveform Length (WL): é uma medida que quantifica a complexidade ou o comprimento total de uma forma de onda. É frequentemente utilizada em análises de sinais, como sinais eletromiográficos (EMG) ou outros tipos de sinais biomédicos. A fórmula envolve calcular a soma das diferenças absolutas entre amostras consecutivas na forma de onda. Essa medida é sensível às variações locais na amplitude da forma de onda e pode ser usada para avaliar a complexidade ou rugosidade do sinal. Quanto mais irregularidades ou mudanças abruptas houver na forma de onda, maior será o valor do Waveform Length. Significado matemático: $N$ e $x_i$ são, respectivamente, o comprimento e o enésimo valor amostral do sinal EMG.\n",
    "\n",
    "- Zero Crossing (ZC): é uma medida utilizada para quantificar a frequência de mudanças de polaridade em um sinal, como uma forma de onda. Em sinais de áudio, por exemplo, um cruzamento por zero ocorre sempre que o sinal muda de positivo para negativo ou vice-versa. Em termos simples, um zero crossing é o ponto em que a amplitude de um sinal muda de sinal. Significado matemático: $N$ é o número total de amostras no sinal; $x_i$ representa cada amostra individual no sinal; $sign(x_i)$ é a função de sinal, que retorna $-1$ se $x_i$​ for negativo, $0$ se for zero e $1$ se for positivo.\n",
    "\n",
    "\n",
    "**Domínio da frequência**\n",
    "- Median Frequency (FMD): é a frequência na qual o espectro é dividido em duas regiões médias. Significado matemático: o $PSD$ aqui é entendido como $|w^2|$. \n",
    "\n",
    "- Mean Frequency (FMN): é uma medida da frequência média ponderada no espectro de potência do sinal. Ela é frequentemente usada para caracterizar a distribuição de energia em um sinal ao longo das diferentes frequências, fornecendo uma medida de centralidade das frequências predominantes no sinal. Significado matemático: o $PSD$ é entendido como $|w^2|$ e $f_j$ é o espectro de frequência no compartimento de frequência $j$.\n",
    "\n",
    "- Modified Median Frequency (MMDF): é a frequência na qual o espectro é dividido em duas regiões com amplitude igual. Significado matemático: $A_j$ é o espectro de amplitude do EMG diante da frequência $j$.\n",
    "\n",
    "- Modified Frequency Mean (MMNF): é estimado como a soma do produto do espectro de amplitude e frequência dividida pela soma total da intensidade do espectro. Significado matemático: $A_j$ e $f_j$ são o espectro de amplitude EMG e o espectro de frequência no compartimento de frequência $j$, respectivamente.\n"
   ]
  },
  {
   "cell_type": "markdown",
   "metadata": {},
   "source": [
    "#### Aplicando as características\n",
    "\n",
    "É necessário implementar as características, geralmente em formato de funções ou métodos, para que seja possível aplicar tais funções aos dados de entrada e obter as características resultantes. A seguir temos a implementação das características `VAR` & `RMS` (domínio do tempo) e `FDM` & `MMDF` (domínio da frequência)."
   ]
  },
  {
   "cell_type": "code",
   "execution_count": 1,
   "metadata": {},
   "outputs": [],
   "source": [
    "\n",
    "from math import prod\n",
    "import numpy as np\n",
    "\n",
    "# funções auxiliares\n",
    "def PSD(w):\n",
    "    ''' definição da função PSD para o sinal no domínio da frequência '''\n",
    "    return np.abs(w) ** 2\n",
    "\n",
    "def sign(x):\n",
    "    return x[:-1] * x[1:]\n",
    "\n",
    "# funções de extração de características\n",
    "def wamp(x, threshold):\n",
    "    differences = np.abs(np.diff(x))\n",
    "    return np.sum(differences > threshold)\n",
    "\n",
    "def var(x):\n",
    "    return np.sum(x ** 2, axis=-1) / (np.prod(x.shape) - 1)\n",
    "\n",
    "def rms(x): #faz produtótio de 56, 2, 33, 64\n",
    "    return np.sqrt(np.sum(np.abs(x) ** 2, axis=-1) / (np.prod(x.shape) - 1))\n",
    "\n",
    "def wl(x):\n",
    "    return np.sum(np.abs(np.diff(x)), axis=-1)\n",
    "\n",
    "def zc(x):\n",
    "    return np.sum(sign(x) <= 0, axis=-1)\n",
    "\n",
    "def log_det(x):\n",
    "    from math import e\n",
    "    return e ** (np.sum(np.log10(np.abs(x)), axis=-1) /  np.prod(x.shape))\n",
    "\n",
    "def fmd(w):\n",
    "    return np.sum(PSD(w), axis=-1) / 2\n",
    "\n",
    "def mmdf(w):\n",
    "    return np.sum(np.abs(w), axis=-1) / 2"
   ]
  },
  {
   "cell_type": "markdown",
   "metadata": {},
   "source": [
    "**Tarefa 2**: Implemente todas as características apresentadas neste tutorial em formato de funções. Sinta-se livre também para buscar e implementar características além das apresentadas, citando as fontes de tais características.\n",
    "\n",
    "\n",
    "#### Vetor de características\n",
    "\n",
    "Ao final da implementação e seleção das características, deve ser escolhida as características e então teremos um vetor com todas elas implementadas.\n",
    "\n",
    "O vetor de características estará organizado da seguinte forma (exemplo p/ VAR, RMS, RDM e MMDF) (1 e 2 porque são dois eletrodos)\n",
    "\n",
    "| ID sample | VAR1 | RMS1 | FMD1 | MMDF1 | VAR2 | RMS2 | FMD2 | MMDF2 | Classe |\n",
    "|:---------:|:----:|:----:|:----:|:-----:|------|------|------|-------|:------:|\n",
    "|     1     |  v1  |  v1  |  v1  |   v1  | v1   | v1   | v1   | v1    |    0   |\n",
    "|     2     |  v2  |  v2  |  v2  |   v2  | v2   | v2   | v2   | v2    |    0   |\n",
    "|    ...    |  ... |  ... |  ... |  ...  | ...  | ...  | ...  | ...   |   ...  |\n",
    "|     N     |  vN  |  vN  |  vN  |   vN  | vN   | vN   | vN   | vN    |    7   |\n",
    "\n",
    "#### Implementação do vetor\n",
    "\n"
   ]
  },
  {
   "cell_type": "code",
   "execution_count": 5,
   "metadata": {},
   "outputs": [
    {
     "name": "stdout",
     "output_type": "stream",
     "text": [
      "Shape dos vetores orinais (28, 33, 2, 33) (28, 33, 2, 64)\n"
     ]
    },
    {
     "data": {
      "text/plain": [
       "((28, 33, 2), (28, 33, 2), (28, 33, 2), (28, 33, 2))"
      ]
     },
     "execution_count": 5,
     "metadata": {},
     "output_type": "execute_result"
    }
   ],
   "source": [
    "\n",
    "# Carregando dados dos participantes\n",
    "x1 = np.load(\"datasets/p1_freq.npy\")\n",
    "w1 = np.load(\"datasets/p1_time.npy\")\n",
    "\n",
    "x1 = np.load(\"datasets/p2_freq.npy\")\n",
    "w1 = np.load(\"datasets/p2_time.npy\")\n",
    "\n",
    "print(\"Shape dos vetores orinais\", x1.shape, w1.shape)\n",
    "\n",
    "data_var = var(x1)\n",
    "data_rms = rms(x1)\n",
    "\n",
    "data_fmd = fmd(w1)\n",
    "data_mmdf = mmdf(w1)\n",
    "\n",
    "data_var.shape, data_rms.shape, data_fmd.shape, data_mmdf.shape\n",
    "#56, 2, 33"
   ]
  },
  {
   "cell_type": "code",
   "execution_count": 6,
   "metadata": {},
   "outputs": [
    {
     "data": {
      "text/plain": [
       "(4, 28, 33, 2)"
      ]
     },
     "execution_count": 6,
     "metadata": {},
     "output_type": "execute_result"
    }
   ],
   "source": [
    "# União do vetor de características inicial (concatenação de data)\n",
    "\n",
    "features = np.array([data_var, data_rms, data_fmd, data_mmdf])\n",
    "features.shape"
   ]
  },
  {
   "cell_type": "code",
   "execution_count": 7,
   "metadata": {},
   "outputs": [
    {
     "data": {
      "text/plain": [
       "(56, 132)"
      ]
     },
     "execution_count": 7,
     "metadata": {},
     "output_type": "execute_result"
    }
   ],
   "source": [
    "# Organização das dimensões 56, 33, 4, 2\n",
    "features = features.transpose(1, 3, 0, 2)\n",
    "\n",
    "# Criar vetor de características definitivo\n",
    "features = features.reshape(features.shape[0] * features.shape[1], features.shape[2] * features.shape[3])\n",
    "\n",
    "features.shape"
   ]
  },
  {
   "cell_type": "code",
   "execution_count": 13,
   "metadata": {},
   "outputs": [
    {
     "name": "stdout",
     "output_type": "stream",
     "text": [
      "[0, 1, 2, 3, 2, 3, 3, 1, 0, 3, 0, 0, 1, 2, 3, 2, 1, 0, 2, 1, 3, 1, 0, 1, 2, 0, 2, 3]\n"
     ]
    }
   ],
   "source": [
    "labels_str = ['dir', 'esq', 'cima', 'baixo', 'cima', 'baixo',\n",
    "'baixo', 'esq', 'dir', 'baixo', 'dir', 'dir', 'esq', 'cima',\n",
    "'baixo', 'cima', 'esq', 'dir', 'cima', 'esq', 'baixo', 'esq',\n",
    "'dir', 'esq', 'cima', 'dir', 'cima', 'baixo']\n",
    "\n",
    "# transformando para numérico\n",
    "lab_dict = {'dir': 0, 'esq': 1, 'cima': 2, 'baixo': 3}\n",
    "labels_num = [lab_dict[item] for item in labels_str]\n",
    "\n",
    "print(labels_num)\n",
    "\n",
    "# criação do vetor de labels final\n",
    "y = np.repeat(labels_num, int(features.shape[0] / len(labels_num)))"
   ]
  },
  {
   "cell_type": "code",
   "execution_count": 9,
   "metadata": {},
   "outputs": [],
   "source": [
    "#Aplicar normalização dos dados utilizando ferramentas já conhecidas"
   ]
  },
  {
   "cell_type": "code",
   "execution_count": 10,
   "metadata": {},
   "outputs": [],
   "source": [
    "# Seleção de característica"
   ]
  },
  {
   "cell_type": "code",
   "execution_count": 11,
   "metadata": {},
   "outputs": [],
   "source": [
    "# Classificação"
   ]
  }
 ],
 "metadata": {
  "kernelspec": {
   "display_name": "venv",
   "language": "python",
   "name": "python3"
  },
  "language_info": {
   "codemirror_mode": {
    "name": "ipython",
    "version": 3
   },
   "file_extension": ".py",
   "mimetype": "text/x-python",
   "name": "python",
   "nbconvert_exporter": "python",
   "pygments_lexer": "ipython3",
   "version": "3.11.4"
  }
 },
 "nbformat": 4,
 "nbformat_minor": 2
}
