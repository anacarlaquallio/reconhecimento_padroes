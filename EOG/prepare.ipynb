{
 "cells": [
  {
   "cell_type": "markdown",
   "metadata": {},
   "source": [
    "## Preparação dos dados"
   ]
  },
  {
   "cell_type": "code",
   "execution_count": 31,
   "metadata": {},
   "outputs": [
    {
     "data": {
      "text/plain": [
       "((28, 1000, 4), (28, 1000, 4))"
      ]
     },
     "execution_count": 31,
     "metadata": {},
     "output_type": "execute_result"
    }
   ],
   "source": [
    "import numpy as np\n",
    "data1 = np.load('datasets/Gabi.npy')\n",
    "data2 = np.load('datasets/Jesse.npy')\n",
    "\n",
    "data1.shape, data2.shape"
   ]
  },
  {
   "cell_type": "code",
   "execution_count": 32,
   "metadata": {},
   "outputs": [
    {
     "name": "stdout",
     "output_type": "stream",
     "text": [
      "(28, 1000, 2) (28, 1000, 2)\n",
      "(2, 28, 1000, 2)\n",
      "(2, 28, 2, 1000)\n"
     ]
    }
   ],
   "source": [
    "# Correção do número de eletrodos e unificação\n",
    "\n",
    "# Como dito anteriormente, os dois primeiros eletrodos são funcionais\n",
    "data1 = data1[:,:,:2]\n",
    "data2 = data2[:,:,:2]\n",
    "\n",
    "print(data1.shape, data2.shape)\n",
    "\n",
    "data = np.array([data1, data2])\n",
    "print(data.shape)\n",
    "\n",
    "# Colocando os dados na dimensão final\n",
    "data = data.transpose(0, 1, 3, 2)\n",
    "print(data.shape)"
   ]
  },
  {
   "cell_type": "code",
   "execution_count": 33,
   "metadata": {},
   "outputs": [],
   "source": [
    "# Funções para aplicação dos filtros temporais\n",
    "%matplotlib inline\n",
    "from scipy import signal\n",
    "\n",
    "def butter_bandpass(data, lowcut, highcut, fs=512, order=4):\n",
    "    nyq = fs * 0.5\n",
    "    low = lowcut / nyq\n",
    "    high = highcut / nyq\n",
    "    b, a = signal.butter(order, [low, high], btype='bandpass')\n",
    "    return signal.filtfilt(b, a, data)\n",
    "\n",
    "\n",
    "def butter_notch(data, cutoff, var=1, fs=512, order=4):\n",
    "    nyq = fs * 0.5\n",
    "    low = (cutoff - var) / nyq\n",
    "    high = (cutoff + var) / nyq\n",
    "    b, a = signal.iirfilter(order, [low, high], btype='bandstop', ftype=\"butter\")\n",
    "    return signal.filtfilt(b, a, data)"
   ]
  },
  {
   "cell_type": "code",
   "execution_count": 34,
   "metadata": {},
   "outputs": [],
   "source": [
    "# Aplicando filtro 5-50Hz\n",
    "filtered_data = butter_bandpass(data, 5, 50)"
   ]
  },
  {
   "cell_type": "code",
   "execution_count": 35,
   "metadata": {},
   "outputs": [
    {
     "name": "stdout",
     "output_type": "stream",
     "text": [
      " (56, 2, 1000)\n",
      "Formato (shape) dos dados depois da divisão de janelas\n",
      "Dominio do tempo: (56, 2, 33, 64) - (classes+ensaios, canais, janelas, linhas)\n",
      "Dominio da frequência:  (56, 2, 33, 33) - (classes+ensaios, canais, janelas, linhas)\n"
     ]
    }
   ],
   "source": [
    "# Aplicação segmentação\n",
    "data = filtered_data.reshape(filtered_data.shape[0] * filtered_data.shape[1], filtered_data.shape[2], filtered_data.shape[3])\n",
    "\n",
    "from scipy.signal import stft\n",
    "\n",
    "step = 29\n",
    "segment = 64\n",
    "print('', data.shape)\n",
    "\n",
    "n_win = int((data.shape[-1] - segment) / step) + 1\n",
    "ids = np.arange(n_win) * step\n",
    "\n",
    "# Janelas do dado no dominio do tempo\n",
    "chunks_time = np.array([data[:,:,k:(k + segment)] for k in ids]).transpose(1, 2, 0, 3)\n",
    "\n",
    "# Janelas do dado no domínio da frequência\n",
    "_, _, chunks_freq = stft(data, fs=200, nperseg=64, noverlap=32)\n",
    "chunks_freq = np.swapaxes(chunks_freq, 2, 3)\n",
    "\n",
    "print('Formato (shape) dos dados depois da divisão de janelas')\n",
    "print(f'Dominio do tempo: {chunks_time.shape} - (classes+ensaios, canais, janelas, linhas)')\n",
    "print(f'Dominio da frequência:  {chunks_freq.shape} - (classes+ensaios, canais, janelas, linhas)')"
   ]
  },
  {
   "cell_type": "code",
   "execution_count": 36,
   "metadata": {},
   "outputs": [
    {
     "name": "stdout",
     "output_type": "stream",
     "text": [
      "(2, 33, 33) (2, 33, 33)\n",
      "(2, 33, 64) (2, 33, 64)\n"
     ]
    }
   ],
   "source": [
    "# Separar os participantes e salvar\n",
    "print(chunks_freq[0].shape, chunks_freq[1].shape)\n",
    "print(chunks_time[0].shape, chunks_time[1].shape)\n",
    "\n",
    "p1_freq = chunks_freq[0]\n",
    "p1_time = chunks_time[0]\n",
    "\n",
    "p2_freq = chunks_freq[1]\n",
    "p2_time = chunks_time[1]\n",
    "\n",
    "np.save(\"datasets/p1_freq\", p1_freq)\n",
    "np.save(\"datasets/p1_time\", p1_time)\n",
    "\n",
    "np.save(\"datasets/p2_freq\", p2_freq)\n",
    "np.save(\"datasets/p2_time\", p2_time)"
   ]
  }
 ],
 "metadata": {
  "kernelspec": {
   "display_name": "Python 3",
   "language": "python",
   "name": "python3"
  },
  "language_info": {
   "codemirror_mode": {
    "name": "ipython",
    "version": 3
   },
   "file_extension": ".py",
   "mimetype": "text/x-python",
   "name": "python",
   "nbconvert_exporter": "python",
   "pygments_lexer": "ipython3",
   "version": "3.11.4"
  }
 },
 "nbformat": 4,
 "nbformat_minor": 2
}
