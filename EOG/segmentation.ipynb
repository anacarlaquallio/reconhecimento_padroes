{
 "cells": [
  {
   "cell_type": "markdown",
   "metadata": {},
   "source": [
    "## Segmentação dos dados\n",
    "\n",
    "As características normalmente são extraídas sobre pequenos segmentos de tamanho fixo dos dados, não no dado como um todo. Estes pequenos segmentos são chamados de janelas. A técnica de separar os dados em janelas, recebe o nome de janela deslizante (*sliding window*) e é uma forma de segmentação de dados. Uma boa prática, é definir um passo para essa janela de forma que haja uma sopreposição de dados, para que informações da lacuna de uma janela e outra não sejam perdidas. Na imagem a seguir podemos observar um sinal EOG. Abaixo dele a representação de janelas: *W1*, *W2*, *W3*... Repare que entre as janelas, há uma sobreposição de tamanho *T*. \n",
    "\n",
    "Na base de dados que iremos implementar, cada ensaio tem duração de 5 segundos. Se utilizadas janelas com tamanho de 250 ms, resultará em 20 janelas. Ao aplicar uma sobreposição de ~128ms, ficamos com 41 janelas de ~122ms.\n",
    "\n",
    "Algumas características de EMG trabalham com o dado no domínio da frequência. Quando tais características são aplicadas, é necessário tranformar o dado para o domínio da frequência, utilizando o método de transformação de domínio `STFT`, do inglês *Short-time Fourier transform* (Transformada de Fourier de curto termo). O código divide o dado em segmentos, tanto no domínio do tempo quanto no domínio da frequência."
   ]
  },
  {
   "cell_type": "code",
   "execution_count": 10,
   "metadata": {},
   "outputs": [
    {
     "data": {
      "text/plain": [
       "array([[[ -2.8834722 ,  18.218252  , -18.910511  , ...,   2.6398966 ,\n",
       "          -3.7349935 ,   7.4631076 ],\n",
       "        [  6.617178  ,  -3.8209395 ,   1.8515847 , ...,  -5.854906  ,\n",
       "          -3.8280346 ,  -5.4327493 ],\n",
       "        [-11.595966  ,  14.74045   ,   7.7698226 , ...,  -4.5176864 ,\n",
       "           0.37455332,   6.6601686 ],\n",
       "        [ 15.115495  , -15.170641  ,  -6.1311893 , ...,  16.025515  ,\n",
       "          -0.93595564,   3.3250694 ]],\n",
       "\n",
       "       [[  0.65565866,  -8.753227  ,   2.041236  , ...,  -7.0834394 ,\n",
       "          12.440379  ,   4.9941688 ],\n",
       "        [ -5.20613   ,  24.6411    ,  12.934999  , ...,  -3.7961366 ,\n",
       "           0.11440572,  -6.7707815 ],\n",
       "        [  6.6156116 ,  -8.973991  ,  10.461727  , ...,  -9.04715   ,\n",
       "           4.6981435 ,  15.723002  ],\n",
       "        [  8.303327  ,  -2.449911  ,  -8.16138   , ...,  12.354369  ,\n",
       "          -1.4501842 ,  -4.5641375 ]],\n",
       "\n",
       "       [[ -8.616586  ,  17.547148  ,  -0.64185965, ...,   1.3506331 ,\n",
       "          15.566928  ,  11.141122  ],\n",
       "        [ -5.6901703 ,   6.7957573 ,   0.6724343 , ..., -17.23769   ,\n",
       "          -3.2979653 ,  -9.408041  ],\n",
       "        [  4.3541975 , -14.811874  ,   6.933133  , ...,   8.464494  ,\n",
       "          11.2040615 ,   8.149041  ],\n",
       "        [ -5.247111  ,  17.638538  ,   7.293126  , ...,  -6.013108  ,\n",
       "           8.797996  ,   4.4462953 ]],\n",
       "\n",
       "       ...,\n",
       "\n",
       "       [[ 18.88031   ,  13.449885  ,   6.6647415 , ..., -16.96499   ,\n",
       "          -4.025074  ,   5.7049155 ],\n",
       "        [ 11.159633  ,   6.1460147 ,   0.8654421 , ...,   9.38744   ,\n",
       "           2.9995697 ,  -5.241861  ],\n",
       "        [ 15.677423  , -14.072823  ,  13.449884  , ...,  -8.717264  ,\n",
       "           9.88644   ,  11.701085  ],\n",
       "        [-16.643751  ,   1.843494  ,  -6.552109  , ..., -10.547437  ,\n",
       "           2.8141608 ,   2.6465502 ]],\n",
       "\n",
       "       [[-12.598341  ,   8.792001  ,  -2.1586602 , ...,   8.637954  ,\n",
       "          16.14754   ,  -9.359032  ],\n",
       "        [  0.9672706 ,   8.588064  , -11.05956   , ...,  20.092382  ,\n",
       "          17.560059  ,  10.727454  ],\n",
       "        [ -2.918204  , -11.032514  ,  -2.1554964 , ...,  16.15579   ,\n",
       "         -10.563611  ,   1.8301386 ],\n",
       "        [-16.51002   ,   5.2299666 ,  -9.942596  , ...,  -4.6117234 ,\n",
       "          -3.11123   , -16.153933  ]],\n",
       "\n",
       "       [[ -3.9721017 , -21.752985  ,  16.574625  , ...,  -3.0556056 ,\n",
       "           8.911623  ,   6.673819  ],\n",
       "        [ -4.5002112 , -12.504335  ,   0.96417105, ...,   0.04814201,\n",
       "          -2.3358161 , -23.460882  ],\n",
       "        [ 13.631156  ,  11.434815  ,   1.5617399 , ...,  -1.8274945 ,\n",
       "          -2.2654643 ,  -5.9587245 ],\n",
       "        [  5.283068  , -12.439905  ,   0.52905554, ..., -13.327969  ,\n",
       "           3.0827534 ,   6.5016117 ]]], dtype=float32)"
      ]
     },
     "execution_count": 10,
     "metadata": {},
     "output_type": "execute_result"
    }
   ],
   "source": [
    "# Criando dados fictícios\n",
    "\n",
    "import numpy as np\n",
    "\n",
    "shape = (60, 4, 1000)\n",
    "data = np.random.normal(loc=0, scale=10, size=shape).astype(np.float32)\n",
    "data"
   ]
  },
  {
   "cell_type": "code",
   "execution_count": 19,
   "metadata": {},
   "outputs": [
    {
     "name": "stdout",
     "output_type": "stream",
     "text": [
      " (60, 4, 1000)\n",
      "Formato (shape) dos dados depois da divisão de janelas\n",
      "Dominio do tempo: (60, 4, 33, 64) - (classes+ensaios, canais, janelas, linhas)\n",
      "Dominio da frequência:  (60, 4, 33, 33) - (classes+ensaios, canais, janelas, linhas)\n"
     ]
    }
   ],
   "source": [
    "from scipy.signal import stft\n",
    "\n",
    "step = 29\n",
    "segment = 64\n",
    "print('', data.shape)\n",
    "\n",
    "n_win = int((data.shape[-1] - segment) / step) + 1\n",
    "ids = np.arange(n_win) * step\n",
    "\n",
    "# Janelas do dado no dominio do tempo\n",
    "chunks_time = np.array([data[:,:,k:(k + segment)] for k in ids]).transpose(1, 2, 0, 3)\n",
    "\n",
    "# Janelas do dado no domínio da frequência\n",
    "_, _, chunks_freq = stft(data, fs=200, nperseg=64, noverlap=32)\n",
    "chunks_freq = np.swapaxes(chunks_freq, 2, 3)\n",
    "\n",
    "print('Formato (shape) dos dados depois da divisão de janelas')\n",
    "print(f'Dominio do tempo: {chunks_time.shape} - (classes+ensaios, canais, janelas, linhas)')\n",
    "print(f'Dominio da frequência:  {chunks_freq.shape} - (classes+ensaios, canais, janelas, linhas)')"
   ]
  },
  {
   "cell_type": "markdown",
   "metadata": {},
   "source": [
    "*Desafio*: Implementar um algoritmo para encontrar a mesma quantidade de janelas em ambos os domínios (tempo e frequência)."
   ]
  }
 ],
 "metadata": {
  "kernelspec": {
   "display_name": "venv",
   "language": "python",
   "name": "python3"
  },
  "language_info": {
   "codemirror_mode": {
    "name": "ipython",
    "version": 3
   },
   "file_extension": ".py",
   "mimetype": "text/x-python",
   "name": "python",
   "nbconvert_exporter": "python",
   "pygments_lexer": "ipython3",
   "version": "3.11.4"
  }
 },
 "nbformat": 4,
 "nbformat_minor": 2
}
