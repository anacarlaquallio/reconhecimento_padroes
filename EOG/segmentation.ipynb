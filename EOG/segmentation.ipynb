{
 "cells": [
  {
   "cell_type": "markdown",
   "metadata": {},
   "source": [
    "## Segmentação dos dados\n",
    "\n",
    "As características normalmente são extraídas sobre pequenos segmentos de tamanho fixo dos dados, não no dado como um todo. Estes pequenos segmentos são chamados de janelas. A técnica de separar os dados em janelas, recebe o nome de janela deslizante (*sliding window*) e é uma forma de segmentação de dados. Uma boa prática, é definir um passo para essa janela de forma que haja uma sopreposição de dados, para que informações da lacuna de uma janela e outra não sejam perdidas. Na imagem a seguir podemos observar um sinal EOG. Abaixo dele a representação de janelas: *W1*, *W2*, *W3*... Repare que entre as janelas, há uma sobreposição de tamanho *T*. \n",
    "\n",
    "Na base de dados que iremos implementar, cada ensaio tem duração de 5 segundos. Se utilizadas janelas com tamanho de 250 ms, resultará em 20 janelas. Ao aplicar uma sobreposição de ~128ms, ficamos com 41 janelas de ~122ms.\n",
    "\n",
    "Algumas características de EMG trabalham com o dado no domínio da frequência. Quando tais características são aplicadas, é necessário tranformar o dado para o domínio da frequência, utilizando o método de transformação de domínio `STFT`, do inglês *Short-time Fourier transform* (Transformada de Fourier de curto termo). O código divide o dado em segmentos, tanto no domínio do tempo quanto no domínio da frequência."
   ]
  },
  {
   "cell_type": "code",
   "execution_count": 2,
   "metadata": {},
   "outputs": [
    {
     "data": {
      "text/plain": [
       "array([[[  9.715339  ,  15.959176  ,  16.09355   , ..., -14.468535  ,\n",
       "          22.011942  ,  -2.2860115 ],\n",
       "        [  1.083166  ,   4.8331575 ,  -3.8758605 , ...,   7.46218   ,\n",
       "           6.7929797 ,   3.5564976 ],\n",
       "        [-16.891994  ,  -1.0153096 ,  21.34562   , ...,   6.7818613 ,\n",
       "          19.03512   ,  20.873432  ],\n",
       "        [ 15.34505   ,   9.304999  ,  -0.73898715, ...,  22.92291   ,\n",
       "           1.3304133 ,   3.2307098 ]],\n",
       "\n",
       "       [[  9.850015  , -13.348989  ,   1.592202  , ...,  20.787218  ,\n",
       "           5.7125893 ,  -5.8822246 ],\n",
       "        [  4.692102  , -15.622506  , -19.8213    , ...,  -5.0602646 ,\n",
       "          -7.136052  ,  30.987583  ],\n",
       "        [  4.0775924 ,  -1.9215442 ,   4.3385696 , ...,   9.433404  ,\n",
       "           5.5496564 ,  -6.9395437 ],\n",
       "        [ 10.467308  , -10.872599  ,   0.91100365, ...,  -4.573705  ,\n",
       "           4.071464  ,  -4.3732624 ]],\n",
       "\n",
       "       [[ 15.481944  ,   7.8538375 ,  -8.373309  , ...,  -4.678457  ,\n",
       "          -0.60716796,  -0.66716206],\n",
       "        [ -8.829713  , -17.86809   ,  -6.551631  , ...,  11.708106  ,\n",
       "           5.1450553 ,   2.1695776 ],\n",
       "        [-13.580773  ,   1.5725925 ,  11.894762  , ...,  10.462904  ,\n",
       "          -7.3918567 ,  10.660796  ],\n",
       "        [ 10.072743  ,  10.749655  ,  -0.4306082 , ...,  -8.396132  ,\n",
       "          -9.00853   ,   2.9685285 ]],\n",
       "\n",
       "       ...,\n",
       "\n",
       "       [[ -1.6356448 ,  -7.711532  ,   3.742058  , ...,   4.934714  ,\n",
       "          -0.14608762, -11.566593  ],\n",
       "        [ -9.094999  ,  11.708232  ,   9.238179  , ...,  15.499494  ,\n",
       "           4.988911  ,  -7.751409  ],\n",
       "        [  3.435312  ,   2.2313237 ,  -5.1469717 , ...,  -5.2258606 ,\n",
       "          13.666103  ,   6.470628  ],\n",
       "        [ 11.405747  ,   3.2281332 ,  -9.952205  , ...,  -7.494364  ,\n",
       "         -13.143725  ,  12.543229  ]],\n",
       "\n",
       "       [[  0.13935526, -10.35169   ,   4.2262692 , ..., -15.719245  ,\n",
       "          12.036149  ,  13.116099  ],\n",
       "        [ -3.9637105 ,   0.6677169 ,  23.44251   , ...,  23.844383  ,\n",
       "          -5.447265  , -13.758984  ],\n",
       "        [-19.944458  ,   1.0294243 ,   6.730165  , ...,  -3.3464303 ,\n",
       "         -15.299154  ,   9.24416   ],\n",
       "        [  0.34812635,   5.595474  ,  16.922293  , ...,  14.676968  ,\n",
       "           7.7264767 ,   0.34650543]],\n",
       "\n",
       "       [[ -0.4245859 ,   1.9996482 ,   8.026333  , ...,  -3.475041  ,\n",
       "           3.581479  ,  -5.0629616 ],\n",
       "        [ -0.20272434,   3.56953   ,   0.3310007 , ...,  -8.669937  ,\n",
       "          -4.54379   ,  -0.8858639 ],\n",
       "        [  0.36796913, -13.028523  ,  -0.43886527, ...,   8.068988  ,\n",
       "           7.951915  ,  -8.075304  ],\n",
       "        [ -9.472597  ,   4.0555034 ,  14.423966  , ..., -15.565875  ,\n",
       "          16.714403  , -12.8986635 ]]], dtype=float32)"
      ]
     },
     "execution_count": 2,
     "metadata": {},
     "output_type": "execute_result"
    }
   ],
   "source": [
    "# Criando dados fictícios\n",
    "\n",
    "import numpy as np\n",
    "\n",
    "shape = (60, 4, 1000)\n",
    "data = np.random.normal(loc=0, scale=10, size=shape).astype(np.float32)\n",
    "data"
   ]
  },
  {
   "cell_type": "code",
   "execution_count": 3,
   "metadata": {},
   "outputs": [
    {
     "name": "stdout",
     "output_type": "stream",
     "text": [
      " (60, 4, 1000)\n",
      "Formato (shape) dos dados depois da divisão de janelas\n",
      "Dominio do tempo: (60, 4, 33, 64) - (classes+ensaios, canais, janelas, linhas)\n",
      "Dominio da frequência:  (60, 4, 33, 33) - (classes+ensaios, canais, janelas, linhas)\n"
     ]
    }
   ],
   "source": [
    "from scipy.signal import stft\n",
    "\n",
    "step = 29\n",
    "segment = 64\n",
    "print('', data.shape)\n",
    "\n",
    "n_win = int((data.shape[-1] - segment) / step) + 1\n",
    "ids = np.arange(n_win) * step\n",
    "\n",
    "# Janelas do dado no dominio do tempo\n",
    "chunks_time = np.array([data[:,:,k:(k + segment)] for k in ids]).transpose(1, 2, 0, 3)\n",
    "\n",
    "# Janelas do dado no domínio da frequência\n",
    "_, _, chunks_freq = stft(data, fs=200, nperseg=64, noverlap=32)\n",
    "chunks_freq = np.swapaxes(chunks_freq, 2, 3)\n",
    "\n",
    "print('Formato (shape) dos dados depois da divisão de janelas')\n",
    "print(f'Dominio do tempo: {chunks_time.shape} - (classes+ensaios, canais, janelas, linhas)')\n",
    "print(f'Dominio da frequência:  {chunks_freq.shape} - (classes+ensaios, canais, janelas, linhas)')"
   ]
  },
  {
   "cell_type": "markdown",
   "metadata": {},
   "source": [
    "*Desafio*: Implementar um algoritmo para encontrar a mesma quantidade de janelas em ambos os domínios (tempo e frequência)."
   ]
  },
  {
   "cell_type": "code",
   "execution_count": 4,
   "metadata": {},
   "outputs": [
    {
     "name": "stdout",
     "output_type": "stream",
     "text": [
      " (60, 4, 1000)\n",
      "Formato (shape) dos dados depois da divisão de janelas\n",
      "Dominio do tempo: (60, 4, 33, 64) - (classes+ensaios, canais, janelas, linhas)\n",
      "Dominio da frequência:  (60, 4, 33, 33) - (classes+ensaios, canais, janelas, linhas)\n"
     ]
    }
   ],
   "source": [
    "# Teste Desafio\n",
    "segment = 64\n",
    "nperseg_freq = 64\n",
    "print('', data.shape)\n",
    "\n",
    "overlap_time = 0  # Iniciando com sobreposição zero no domínio do tempo\n",
    "overlap_freq = nperseg_freq // 2  # Sobreposição de 50% no domínio da frequência\n",
    "\n",
    "while True:\n",
    "    # Cálculo de n_win e criação de ids\n",
    "    n_win = int((data.shape[-1] - segment) / (overlap_time + 1)) + 1\n",
    "    ids = np.arange(n_win) * (overlap_time + 1)\n",
    "\n",
    "    # Janelas no domínio do tempo\n",
    "    chunks_time = [data[:, :, k:(k + segment)] for k in ids]\n",
    "    chunks_time = np.array(chunks_time).transpose(1, 2, 0, 3)\n",
    "\n",
    "    # Janelas no domínio da frequência\n",
    "    _, _, chunks_freq = stft(data, fs=200, nperseg=nperseg_freq, noverlap=overlap_freq)\n",
    "    chunks_freq = np.swapaxes(chunks_freq, 2, 3)\n",
    "\n",
    "    # Verificando se o número de janelas é o mesmo\n",
    "    if chunks_time.shape[2] == chunks_freq.shape[2]:\n",
    "        break  # Se o número de janelas for igual, saia do loop\n",
    "    else:\n",
    "        overlap_time += 1  # Incrementa a sobreposição no domínio do tempo para tentar igualar o número de janelas\n",
    "\n",
    "print('Formato (shape) dos dados depois da divisão de janelas')\n",
    "print(f'Dominio do tempo: {chunks_time.shape} - (classes+ensaios, canais, janelas, linhas)')\n",
    "print(f'Dominio da frequência:  {chunks_freq.shape} - (classes+ensaios, canais, janelas, linhas)')"
   ]
  }
 ],
 "metadata": {
  "kernelspec": {
   "display_name": "venv",
   "language": "python",
   "name": "python3"
  },
  "language_info": {
   "codemirror_mode": {
    "name": "ipython",
    "version": 3
   },
   "file_extension": ".py",
   "mimetype": "text/x-python",
   "name": "python",
   "nbconvert_exporter": "python",
   "pygments_lexer": "ipython3",
   "version": "3.11.4"
  }
 },
 "nbformat": 4,
 "nbformat_minor": 2
}
