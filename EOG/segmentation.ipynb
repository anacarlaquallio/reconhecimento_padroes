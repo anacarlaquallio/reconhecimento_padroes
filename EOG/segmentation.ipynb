{
 "cells": [
  {
   "cell_type": "markdown",
   "metadata": {},
   "source": [
    "## Segmentação dos dados\n",
    "\n",
    "As características normalmente são extraídas sobre pequenos segmentos de tamanho fixo dos dados, não no dado como um todo. Estes pequenos segmentos são chamados de janelas. A técnica de separar os dados em janelas, recebe o nome de janela deslizante (*sliding window*) e é uma forma de segmentação de dados. Uma boa prática, é definir um passo para essa janela de forma que haja uma sopreposição de dados, para que informações da lacuna de uma janela e outra não sejam perdidas. Na imagem a seguir podemos observar um sinal EOG. Abaixo dele a representação de janelas: *W1*, *W2*, *W3*... Repare que entre as janelas, há uma sobreposição de tamanho *T*. \n",
    "\n",
    "Na base de dados que iremos implementar, cada ensaio tem duração de 5 segundos. Se utilizadas janelas com tamanho de 250 ms, resultará em 20 janelas. Ao aplicar uma sobreposição de ~128ms, ficamos com 41 janelas de ~122ms.\n",
    "\n",
    "Algumas características de EMG trabalham com o dado no domínio da frequência. Quando tais características são aplicadas, é necessário tranformar o dado para o domínio da frequência, utilizando o método de transformação de domínio `STFT`, do inglês *Short-time Fourier transform* (Transformada de Fourier de curto termo). O código divide o dado em segmentos, tanto no domínio do tempo quanto no domínio da frequência."
   ]
  },
  {
   "cell_type": "code",
   "execution_count": 1,
   "metadata": {},
   "outputs": [
    {
     "data": {
      "text/plain": [
       "array([[[-3.90393448e+00, -2.60749378e+01, -3.24774218e+00, ...,\n",
       "          3.23517823e+00,  1.83841717e+00,  1.85505543e+01],\n",
       "        [-3.10271597e+00,  1.09141512e+01,  9.76041126e+00, ...,\n",
       "         -7.54746771e+00, -6.57333136e-01,  2.51514721e+01],\n",
       "        [-7.00262547e+00, -1.31661568e+01, -1.79386640e+00, ...,\n",
       "         -4.62527800e+00,  2.16235962e+01, -3.07737613e+00],\n",
       "        [ 1.54577675e+01,  4.22393894e+00,  2.06021190e+00, ...,\n",
       "         -1.90858040e+01,  7.59409952e+00, -6.39791906e-01]],\n",
       "\n",
       "       [[ 1.33389962e+00, -1.37301931e+01, -3.43953633e+00, ...,\n",
       "          7.52064371e+00,  5.72106028e+00,  5.33696461e+00],\n",
       "        [ 5.54165077e+00,  7.98749971e+00,  1.11764002e+00, ...,\n",
       "         -2.96858096e+00, -6.41626644e+00, -1.29623423e+01],\n",
       "        [ 4.67923307e+00,  4.42317486e+00, -1.88987617e+01, ...,\n",
       "          1.35019741e+01,  4.82803440e+00, -1.33640742e+00],\n",
       "        [ 3.85384202e+00,  1.11449318e+01,  3.58403754e+00, ...,\n",
       "         -1.84753168e+00, -1.00824518e+01, -2.21215267e+01]],\n",
       "\n",
       "       [[ 8.67342186e+00,  1.96369915e+01,  1.79793835e+01, ...,\n",
       "         -1.00006475e+01,  4.08415890e+00, -2.38892984e+00],\n",
       "        [ 1.55402145e+01, -7.90585899e+00,  3.72103810e+00, ...,\n",
       "          2.27708721e+00,  3.05738163e+00, -7.58011866e+00],\n",
       "        [-1.13008738e+01, -1.28213463e+01, -1.21003494e+01, ...,\n",
       "          2.05028744e+01, -1.54431543e+01,  2.42077675e+01],\n",
       "        [ 4.48897314e+00,  1.10209188e+01,  1.23253202e+01, ...,\n",
       "          1.11066923e+01, -5.52557373e+00,  8.78953171e+00]],\n",
       "\n",
       "       ...,\n",
       "\n",
       "       [[ 8.04677868e+00,  4.65664864e+00, -1.58387051e+01, ...,\n",
       "         -2.21036739e+01, -1.22824411e+01, -3.92293036e-01],\n",
       "        [ 6.21989965e+00,  1.60010648e+00,  1.42589605e+00, ...,\n",
       "          1.06389103e+01,  1.69790406e-02, -6.87629986e+00],\n",
       "        [-5.49492693e+00,  2.03135562e+00, -1.60287304e+01, ...,\n",
       "          5.65243483e+00,  5.99308634e+00, -4.61190081e+00],\n",
       "        [ 1.06510229e+01, -7.31094885e+00, -3.62301040e+00, ...,\n",
       "          1.21874380e+01, -4.85772371e+00, -1.91752160e+00]],\n",
       "\n",
       "       [[ 1.20024359e+00,  1.24432859e+01, -1.14118862e+01, ...,\n",
       "         -1.16111107e+01, -3.64541936e+00,  1.97450113e+00],\n",
       "        [-1.80878391e+01,  7.43913317e+00, -7.82935238e+00, ...,\n",
       "         -7.83226192e-01, -2.83170372e-01,  5.04509640e+00],\n",
       "        [-1.76651611e+01,  7.98044777e+00, -1.90943050e+01, ...,\n",
       "          8.31241131e+00,  4.38380051e+00,  1.51379490e+00],\n",
       "        [-1.22912521e+01, -3.25996733e+00, -3.62899542e+00, ...,\n",
       "         -1.40303450e+01,  3.54162693e+00, -4.64012480e+00]],\n",
       "\n",
       "       [[ 1.02502871e+01,  1.61549549e+01, -1.67673664e+01, ...,\n",
       "          1.94250755e+01, -1.54484816e+01, -5.41787100e+00],\n",
       "        [-5.43977833e+00,  9.06128824e-01, -4.43633461e+00, ...,\n",
       "          4.29491663e+00,  7.39071417e+00,  2.11349449e+01],\n",
       "        [ 1.19117765e+01, -1.17846661e+01,  1.60921745e+01, ...,\n",
       "          2.06703777e+01,  4.86800909e+00,  3.28012061e+00],\n",
       "        [-1.86190243e+01, -6.74798250e+00,  2.76066136e+00, ...,\n",
       "          1.39173374e+01, -2.08437347e+01, -9.37612534e+00]]],\n",
       "      dtype=float32)"
      ]
     },
     "execution_count": 1,
     "metadata": {},
     "output_type": "execute_result"
    }
   ],
   "source": [
    "# Criando dados fictícios\n",
    "\n",
    "import numpy as np\n",
    "\n",
    "shape = (60, 4, 1000)\n",
    "data = np.random.normal(loc=0, scale=10, size=shape).astype(np.float32)\n",
    "data"
   ]
  },
  {
   "cell_type": "code",
   "execution_count": 2,
   "metadata": {},
   "outputs": [
    {
     "name": "stdout",
     "output_type": "stream",
     "text": [
      " (60, 4, 1000)\n",
      "Formato (shape) dos dados depois da divisão de janelas\n",
      "Dominio do tempo: (60, 4, 33, 64) - (classes+ensaios, canais, janelas, linhas)\n",
      "Dominio da frequência:  (60, 4, 33, 33) - (classes+ensaios, canais, janelas, linhas)\n"
     ]
    }
   ],
   "source": [
    "from scipy.signal import stft\n",
    "\n",
    "step = 29\n",
    "segment = 64\n",
    "print('', data.shape)\n",
    "\n",
    "n_win = int((data.shape[-1] - segment) / step) + 1\n",
    "ids = np.arange(n_win) * step\n",
    "\n",
    "# Janelas do dado no dominio do tempo\n",
    "chunks_time = np.array([data[:,:,k:(k + segment)] for k in ids]).transpose(1, 2, 0, 3)\n",
    "\n",
    "# Janelas do dado no domínio da frequência\n",
    "_, _, chunks_freq = stft(data, fs=200, nperseg=64, noverlap=32)\n",
    "chunks_freq = np.swapaxes(chunks_freq, 2, 3)\n",
    "\n",
    "print('Formato (shape) dos dados depois da divisão de janelas')\n",
    "print(f'Dominio do tempo: {chunks_time.shape} - (classes+ensaios, canais, janelas, linhas)')\n",
    "print(f'Dominio da frequência:  {chunks_freq.shape} - (classes+ensaios, canais, janelas, linhas)')"
   ]
  },
  {
   "cell_type": "markdown",
   "metadata": {},
   "source": [
    "*Desafio*: Implementar um algoritmo para encontrar a mesma quantidade de janelas em ambos os domínios (tempo e frequência)."
   ]
  },
  {
   "cell_type": "code",
   "execution_count": 8,
   "metadata": {},
   "outputs": [
    {
     "name": "stdout",
     "output_type": "stream",
     "text": [
      " (60, 4, 1000)\n",
      "Formato (shape) dos dados depois da divisão de janelas\n",
      "Dominio do tempo: (60, 4, 33, 65) - (classes+ensaios, canais, janelas, linhas)\n",
      "Dominio da frequência:  (60, 4, 33, 33) - (classes+ensaios, canais, janelas, linhas)\n"
     ]
    }
   ],
   "source": [
    "# Teste Desafio\n",
    "segment = 64\n",
    "nperseg_freq = 64\n",
    "print('', data.shape)\n",
    "\n",
    "overlap_time = 0  # Iniciando com sobreposição zero no domínio do tempo\n",
    "overlap_freq = nperseg_freq // 2  # Sobreposição de 50% no domínio da frequência\n",
    "\n",
    "while True:\n",
    "    # Cálculo de n_win e criação de ids\n",
    "    n_win = int((data.shape[2] - segment) / (overlap_time + 1)) + 1\n",
    "    ids = np.arange(n_win) * (overlap_time + 1)\n",
    "\n",
    "    # Janelas no domínio do tempo\n",
    "    chunks_time = [data[:, :, k:(k + segment)] for k in ids]\n",
    "    chunks_time = np.array(chunks_time).transpose(1, 2, 0, 3)\n",
    "\n",
    "    # Janelas no domínio da frequência\n",
    "    _, _, chunks_freq = stft(data, fs=200, nperseg=nperseg_freq, noverlap=overlap_freq)\n",
    "    chunks_freq = np.swapaxes(chunks_freq, 2, 3)\n",
    "\n",
    "    # Verificando se o número de janelas é o mesmo\n",
    "    if chunks_time.shape[2] == chunks_freq.shape[2]:\n",
    "        break  # Se o número de janelas for igual, saia do loop\n",
    "    else:\n",
    "        overlap_time += 1  # Incrementa a sobreposição no domínio do tempo para tentar igualar o número de janelas\n",
    "\n",
    "print('Formato (shape) dos dados depois da divisão de janelas')\n",
    "print(f'Dominio do tempo: {chunks_time.shape} - (classes+ensaios, canais, janelas, linhas)')\n",
    "print(f'Dominio da frequência:  {chunks_freq.shape} - (classes+ensaios, canais, janelas, linhas)')"
   ]
  }
 ],
 "metadata": {
  "kernelspec": {
   "display_name": "venv",
   "language": "python",
   "name": "python3"
  },
  "language_info": {
   "codemirror_mode": {
    "name": "ipython",
    "version": 3
   },
   "file_extension": ".py",
   "mimetype": "text/x-python",
   "name": "python",
   "nbconvert_exporter": "python",
   "pygments_lexer": "ipython3",
   "version": "3.11.4"
  }
 },
 "nbformat": 4,
 "nbformat_minor": 2
}
